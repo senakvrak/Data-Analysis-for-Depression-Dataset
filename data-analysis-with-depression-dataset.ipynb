{
 "cells": [
  {
   "cell_type": "markdown",
   "id": "9ce533c8",
   "metadata": {
    "papermill": {
     "duration": 0.01282,
     "end_time": "2024-11-23T16:08:59.570844",
     "exception": false,
     "start_time": "2024-11-23T16:08:59.558024",
     "status": "completed"
    },
    "tags": []
   },
   "source": [
    "# Data Analysis with Depression Data"
   ]
  },
  {
   "cell_type": "markdown",
   "id": "980b9110",
   "metadata": {
    "papermill": {
     "duration": 0.010164,
     "end_time": "2024-11-23T16:08:59.592077",
     "exception": false,
     "start_time": "2024-11-23T16:08:59.581913",
     "status": "completed"
    },
    "tags": []
   },
   "source": [
    "## 1. Set up the environment"
   ]
  },
  {
   "cell_type": "code",
   "execution_count": 1,
   "id": "c3db2651",
   "metadata": {
    "execution": {
     "iopub.execute_input": "2024-11-23T16:08:59.614028Z",
     "iopub.status.busy": "2024-11-23T16:08:59.613738Z",
     "iopub.status.idle": "2024-11-23T16:09:10.312214Z",
     "shell.execute_reply": "2024-11-23T16:09:10.311181Z"
    },
    "papermill": {
     "duration": 10.711709,
     "end_time": "2024-11-23T16:09:10.314142",
     "exception": false,
     "start_time": "2024-11-23T16:08:59.602433",
     "status": "completed"
    },
    "tags": []
   },
   "outputs": [
    {
     "name": "stdout",
     "output_type": "stream",
     "text": [
      "Num GPUs Available:  2\n"
     ]
    }
   ],
   "source": [
    "import tensorflow as tf\n",
    "\n",
    "# Check if GPU is available\n",
    "print(\"Num GPUs Available: \", len(tf.config.list_physical_devices('GPU')))"
   ]
  },
  {
   "cell_type": "code",
   "execution_count": 2,
   "id": "ec6808f8",
   "metadata": {
    "_cell_guid": "b1076dfc-b9ad-4769-8c92-a6c4dae69d19",
    "_uuid": "8f2839f25d086af736a60e9eeb907d3b93b6e0e5",
    "execution": {
     "iopub.execute_input": "2024-11-23T16:09:10.337496Z",
     "iopub.status.busy": "2024-11-23T16:09:10.337013Z",
     "iopub.status.idle": "2024-11-23T16:09:11.152698Z",
     "shell.execute_reply": "2024-11-23T16:09:11.151798Z"
    },
    "papermill": {
     "duration": 0.829344,
     "end_time": "2024-11-23T16:09:11.154705",
     "exception": false,
     "start_time": "2024-11-23T16:09:10.325361",
     "status": "completed"
    },
    "tags": []
   },
   "outputs": [],
   "source": [
    "# Import necessary libraries\n",
    "\n",
    "# Data Exploration and Preparation\n",
    "import numpy as np # linear algebra\n",
    "import pandas as pd # data processing, CSV file I/O (e.g. pd.read_csv)\n",
    "\n",
    "# Exploratory Data Analysis (EDA)\n",
    "import matplotlib.pyplot as plt\n",
    "import seaborn as sns"
   ]
  },
  {
   "cell_type": "code",
   "execution_count": 3,
   "id": "b0cc207c",
   "metadata": {
    "execution": {
     "iopub.execute_input": "2024-11-23T16:09:11.179366Z",
     "iopub.status.busy": "2024-11-23T16:09:11.178907Z",
     "iopub.status.idle": "2024-11-23T16:09:12.636078Z",
     "shell.execute_reply": "2024-11-23T16:09:12.634846Z"
    },
    "papermill": {
     "duration": 1.472198,
     "end_time": "2024-11-23T16:09:12.638171",
     "exception": false,
     "start_time": "2024-11-23T16:09:11.165973",
     "status": "completed"
    },
    "tags": []
   },
   "outputs": [],
   "source": [
    "# Load dataset\n",
    "df_ = pd.read_csv(\"/kaggle/input/depression-dataset/depression_data.csv\")\n",
    "df = df_.copy()"
   ]
  },
  {
   "cell_type": "markdown",
   "id": "49f07d8e",
   "metadata": {
    "papermill": {
     "duration": 0.010983,
     "end_time": "2024-11-23T16:09:12.660019",
     "exception": false,
     "start_time": "2024-11-23T16:09:12.649036",
     "status": "completed"
    },
    "tags": []
   },
   "source": [
    "The dataset contains information about individuals' personal and lifestyle factors. More details about the columns can be found on the dataset's website: <br>\n",
    "https://www.kaggle.com/datasets/anthonytherrien/depression-dataset"
   ]
  },
  {
   "cell_type": "code",
   "execution_count": 4,
   "id": "09bfc1ce",
   "metadata": {
    "execution": {
     "iopub.execute_input": "2024-11-23T16:09:12.682040Z",
     "iopub.status.busy": "2024-11-23T16:09:12.681737Z",
     "iopub.status.idle": "2024-11-23T16:09:15.060857Z",
     "shell.execute_reply": "2024-11-23T16:09:15.060144Z"
    },
    "papermill": {
     "duration": 2.392445,
     "end_time": "2024-11-23T16:09:15.062843",
     "exception": false,
     "start_time": "2024-11-23T16:09:12.670398",
     "status": "completed"
    },
    "tags": []
   },
   "outputs": [],
   "source": [
    "# Generate random NaN values\n",
    "import random\n",
    "\n",
    "def add_random_missing_values(dataframe: pd.DataFrame,\n",
    "                              missing_rate: float = 0.05,\n",
    "                              seed: random = 42) -> pd.DataFrame:\n",
    "    \"\"\"Turns random values to NaN in a DataFrame.\n",
    "    \n",
    "    To use this function, you need to import pandas, numpy and random libraries.\n",
    "\n",
    "    Args:\n",
    "        dataframe (pd.DataFrame): DataFrame to be processed.\n",
    "        missing_rate (float): Percentage of missing value rate in float format. Defaults 0.05\n",
    "\n",
    "    \n",
    "    \"\"\"\n",
    "    # Get copy of dataframe\n",
    "    df_missing = dataframe.copy()\n",
    "\n",
    "    # Obtain size of dataframe and number total number of missing values\n",
    "    df_size = dataframe.size\n",
    "    num_missing = int(df_size * missing_rate)\n",
    "    \n",
    "    # Set seed\n",
    "    if seed:\n",
    "        random.seed(seed)\n",
    "\n",
    "    # Get random row and column indexes to turn them NaN\n",
    "    for _ in range(num_missing):\n",
    "        row_idx = random.randint(0, dataframe.shape[0] - 1)\n",
    "        col_idx = random.randint(0, dataframe.shape[1] - 1)\n",
    "\n",
    "        df_missing.iat[row_idx, col_idx] = np.nan\n",
    "        \n",
    "    return df_missing\n",
    "\n",
    "df = add_random_missing_values(dataframe = df,\n",
    "                               missing_rate = 0.03)"
   ]
  },
  {
   "cell_type": "markdown",
   "id": "bd500268",
   "metadata": {
    "papermill": {
     "duration": 0.010453,
     "end_time": "2024-11-23T16:09:15.085703",
     "exception": false,
     "start_time": "2024-11-23T16:09:15.075250",
     "status": "completed"
    },
    "tags": []
   },
   "source": [
    "## 2. Data Exploration"
   ]
  },
  {
   "cell_type": "code",
   "execution_count": 5,
   "id": "97d29928",
   "metadata": {
    "execution": {
     "iopub.execute_input": "2024-11-23T16:09:15.108244Z",
     "iopub.status.busy": "2024-11-23T16:09:15.107461Z",
     "iopub.status.idle": "2024-11-23T16:09:15.132644Z",
     "shell.execute_reply": "2024-11-23T16:09:15.131659Z"
    },
    "papermill": {
     "duration": 0.039162,
     "end_time": "2024-11-23T16:09:15.135335",
     "exception": false,
     "start_time": "2024-11-23T16:09:15.096173",
     "status": "completed"
    },
    "tags": []
   },
   "outputs": [
    {
     "data": {
      "text/html": [
       "<div>\n",
       "<style scoped>\n",
       "    .dataframe tbody tr th:only-of-type {\n",
       "        vertical-align: middle;\n",
       "    }\n",
       "\n",
       "    .dataframe tbody tr th {\n",
       "        vertical-align: top;\n",
       "    }\n",
       "\n",
       "    .dataframe thead th {\n",
       "        text-align: right;\n",
       "    }\n",
       "</style>\n",
       "<table border=\"1\" class=\"dataframe\">\n",
       "  <thead>\n",
       "    <tr style=\"text-align: right;\">\n",
       "      <th></th>\n",
       "      <th>Name</th>\n",
       "      <th>Age</th>\n",
       "      <th>Marital Status</th>\n",
       "      <th>Education Level</th>\n",
       "      <th>Number of Children</th>\n",
       "      <th>Smoking Status</th>\n",
       "      <th>Physical Activity Level</th>\n",
       "      <th>Employment Status</th>\n",
       "      <th>Income</th>\n",
       "      <th>Alcohol Consumption</th>\n",
       "      <th>Dietary Habits</th>\n",
       "      <th>Sleep Patterns</th>\n",
       "      <th>History of Mental Illness</th>\n",
       "      <th>History of Substance Abuse</th>\n",
       "      <th>Family History of Depression</th>\n",
       "      <th>Chronic Medical Conditions</th>\n",
       "    </tr>\n",
       "  </thead>\n",
       "  <tbody>\n",
       "    <tr>\n",
       "      <th>0</th>\n",
       "      <td>Christine Barker</td>\n",
       "      <td>31.0</td>\n",
       "      <td>Married</td>\n",
       "      <td>Bachelor's Degree</td>\n",
       "      <td>2.0</td>\n",
       "      <td>Non-smoker</td>\n",
       "      <td>Active</td>\n",
       "      <td>Unemployed</td>\n",
       "      <td>26265.67</td>\n",
       "      <td>Moderate</td>\n",
       "      <td>Moderate</td>\n",
       "      <td>Fair</td>\n",
       "      <td>Yes</td>\n",
       "      <td>No</td>\n",
       "      <td>Yes</td>\n",
       "      <td>Yes</td>\n",
       "    </tr>\n",
       "    <tr>\n",
       "      <th>1</th>\n",
       "      <td>Jacqueline Lewis</td>\n",
       "      <td>55.0</td>\n",
       "      <td>Married</td>\n",
       "      <td>High School</td>\n",
       "      <td>1.0</td>\n",
       "      <td>Non-smoker</td>\n",
       "      <td>Sedentary</td>\n",
       "      <td>Employed</td>\n",
       "      <td>42710.36</td>\n",
       "      <td>High</td>\n",
       "      <td>Unhealthy</td>\n",
       "      <td>Fair</td>\n",
       "      <td>Yes</td>\n",
       "      <td>No</td>\n",
       "      <td>No</td>\n",
       "      <td>Yes</td>\n",
       "    </tr>\n",
       "    <tr>\n",
       "      <th>2</th>\n",
       "      <td>Shannon Church</td>\n",
       "      <td>78.0</td>\n",
       "      <td>Widowed</td>\n",
       "      <td>Master's Degree</td>\n",
       "      <td>1.0</td>\n",
       "      <td>Non-smoker</td>\n",
       "      <td>Sedentary</td>\n",
       "      <td>Employed</td>\n",
       "      <td>125332.79</td>\n",
       "      <td>Low</td>\n",
       "      <td>Unhealthy</td>\n",
       "      <td>Good</td>\n",
       "      <td>No</td>\n",
       "      <td>No</td>\n",
       "      <td>Yes</td>\n",
       "      <td>No</td>\n",
       "    </tr>\n",
       "    <tr>\n",
       "      <th>3</th>\n",
       "      <td>Charles Jordan</td>\n",
       "      <td>58.0</td>\n",
       "      <td>Divorced</td>\n",
       "      <td>Master's Degree</td>\n",
       "      <td>3.0</td>\n",
       "      <td>Non-smoker</td>\n",
       "      <td>Moderate</td>\n",
       "      <td>Unemployed</td>\n",
       "      <td>9992.78</td>\n",
       "      <td>Moderate</td>\n",
       "      <td>Moderate</td>\n",
       "      <td>Poor</td>\n",
       "      <td>NaN</td>\n",
       "      <td>No</td>\n",
       "      <td>No</td>\n",
       "      <td>No</td>\n",
       "    </tr>\n",
       "    <tr>\n",
       "      <th>4</th>\n",
       "      <td>Michael Rich</td>\n",
       "      <td>18.0</td>\n",
       "      <td>Single</td>\n",
       "      <td>High School</td>\n",
       "      <td>0.0</td>\n",
       "      <td>Non-smoker</td>\n",
       "      <td>Sedentary</td>\n",
       "      <td>Unemployed</td>\n",
       "      <td>8595.08</td>\n",
       "      <td>NaN</td>\n",
       "      <td>Moderate</td>\n",
       "      <td>Fair</td>\n",
       "      <td>Yes</td>\n",
       "      <td>No</td>\n",
       "      <td>Yes</td>\n",
       "      <td>Yes</td>\n",
       "    </tr>\n",
       "  </tbody>\n",
       "</table>\n",
       "</div>"
      ],
      "text/plain": [
       "               Name   Age Marital Status    Education Level  \\\n",
       "0  Christine Barker  31.0        Married  Bachelor's Degree   \n",
       "1  Jacqueline Lewis  55.0        Married        High School   \n",
       "2    Shannon Church  78.0        Widowed    Master's Degree   \n",
       "3    Charles Jordan  58.0       Divorced    Master's Degree   \n",
       "4      Michael Rich  18.0         Single        High School   \n",
       "\n",
       "   Number of Children Smoking Status Physical Activity Level  \\\n",
       "0                 2.0     Non-smoker                  Active   \n",
       "1                 1.0     Non-smoker               Sedentary   \n",
       "2                 1.0     Non-smoker               Sedentary   \n",
       "3                 3.0     Non-smoker                Moderate   \n",
       "4                 0.0     Non-smoker               Sedentary   \n",
       "\n",
       "  Employment Status     Income Alcohol Consumption Dietary Habits  \\\n",
       "0        Unemployed   26265.67            Moderate       Moderate   \n",
       "1          Employed   42710.36                High      Unhealthy   \n",
       "2          Employed  125332.79                 Low      Unhealthy   \n",
       "3        Unemployed    9992.78            Moderate       Moderate   \n",
       "4        Unemployed    8595.08                 NaN       Moderate   \n",
       "\n",
       "  Sleep Patterns History of Mental Illness History of Substance Abuse  \\\n",
       "0           Fair                       Yes                         No   \n",
       "1           Fair                       Yes                         No   \n",
       "2           Good                        No                         No   \n",
       "3           Poor                       NaN                         No   \n",
       "4           Fair                       Yes                         No   \n",
       "\n",
       "  Family History of Depression Chronic Medical Conditions  \n",
       "0                          Yes                        Yes  \n",
       "1                           No                        Yes  \n",
       "2                          Yes                         No  \n",
       "3                           No                         No  \n",
       "4                          Yes                        Yes  "
      ]
     },
     "execution_count": 5,
     "metadata": {},
     "output_type": "execute_result"
    }
   ],
   "source": [
    "# Show the first few rows to understand the data format\n",
    "df.head()"
   ]
  },
  {
   "cell_type": "code",
   "execution_count": 6,
   "id": "5edc67c3",
   "metadata": {
    "execution": {
     "iopub.execute_input": "2024-11-23T16:09:15.161460Z",
     "iopub.status.busy": "2024-11-23T16:09:15.161188Z",
     "iopub.status.idle": "2024-11-23T16:09:15.417180Z",
     "shell.execute_reply": "2024-11-23T16:09:15.416131Z"
    },
    "papermill": {
     "duration": 0.270293,
     "end_time": "2024-11-23T16:09:15.419286",
     "exception": false,
     "start_time": "2024-11-23T16:09:15.148993",
     "status": "completed"
    },
    "tags": []
   },
   "outputs": [
    {
     "name": "stdout",
     "output_type": "stream",
     "text": [
      "<class 'pandas.core.frame.DataFrame'>\n",
      "RangeIndex: 413768 entries, 0 to 413767\n",
      "Data columns (total 16 columns):\n",
      " #   Column                        Non-Null Count   Dtype  \n",
      "---  ------                        --------------   -----  \n",
      " 0   Name                          401567 non-null  object \n",
      " 1   Age                           401585 non-null  float64\n",
      " 2   Marital Status                401412 non-null  object \n",
      " 3   Education Level               401475 non-null  object \n",
      " 4   Number of Children            401473 non-null  float64\n",
      " 5   Smoking Status                401494 non-null  object \n",
      " 6   Physical Activity Level       401697 non-null  object \n",
      " 7   Employment Status             401546 non-null  object \n",
      " 8   Income                        401577 non-null  float64\n",
      " 9   Alcohol Consumption           401286 non-null  object \n",
      " 10  Dietary Habits                401666 non-null  object \n",
      " 11  Sleep Patterns                401569 non-null  object \n",
      " 12  History of Mental Illness     401754 non-null  object \n",
      " 13  History of Substance Abuse    401513 non-null  object \n",
      " 14  Family History of Depression  401636 non-null  object \n",
      " 15  Chronic Medical Conditions    401417 non-null  object \n",
      "dtypes: float64(3), object(13)\n",
      "memory usage: 50.5+ MB\n",
      "None\n",
      "(413768, 16)\n"
     ]
    }
   ],
   "source": [
    "# Display basic information about the dataset (columns, types, missing values, etc.)\n",
    "print(df.info())\n",
    "# Size of the dataframe (# of columns and rows)\n",
    "print(df.shape)"
   ]
  },
  {
   "cell_type": "markdown",
   "id": "92c34b28",
   "metadata": {
    "papermill": {
     "duration": 0.011638,
     "end_time": "2024-11-23T16:09:15.442437",
     "exception": false,
     "start_time": "2024-11-23T16:09:15.430799",
     "status": "completed"
    },
    "tags": []
   },
   "source": [
    "There are 16 columns in total."
   ]
  },
  {
   "cell_type": "code",
   "execution_count": 7,
   "id": "60442d51",
   "metadata": {
    "execution": {
     "iopub.execute_input": "2024-11-23T16:09:15.465073Z",
     "iopub.status.busy": "2024-11-23T16:09:15.464797Z",
     "iopub.status.idle": "2024-11-23T16:09:15.469213Z",
     "shell.execute_reply": "2024-11-23T16:09:15.468545Z"
    },
    "papermill": {
     "duration": 0.017775,
     "end_time": "2024-11-23T16:09:15.470757",
     "exception": false,
     "start_time": "2024-11-23T16:09:15.452982",
     "status": "completed"
    },
    "tags": []
   },
   "outputs": [],
   "source": [
    "# Identify categorical and numerical features using list comprehension\n",
    "categorical_features = [col for col in df.columns if df[col].dtype in [\"object\", \"category\"]]\n",
    "numerical_features = [col for col in df.columns if df[col].dtype not in [\"object\", \"categorical\"]]"
   ]
  },
  {
   "cell_type": "code",
   "execution_count": 8,
   "id": "e8f46014",
   "metadata": {
    "execution": {
     "iopub.execute_input": "2024-11-23T16:09:15.493139Z",
     "iopub.status.busy": "2024-11-23T16:09:15.492887Z",
     "iopub.status.idle": "2024-11-23T16:09:15.498099Z",
     "shell.execute_reply": "2024-11-23T16:09:15.497345Z"
    },
    "papermill": {
     "duration": 0.018112,
     "end_time": "2024-11-23T16:09:15.499501",
     "exception": false,
     "start_time": "2024-11-23T16:09:15.481389",
     "status": "completed"
    },
    "tags": []
   },
   "outputs": [
    {
     "data": {
      "text/plain": [
       "(['Name',\n",
       "  'Marital Status',\n",
       "  'Education Level',\n",
       "  'Smoking Status',\n",
       "  'Physical Activity Level',\n",
       "  'Employment Status',\n",
       "  'Alcohol Consumption',\n",
       "  'Dietary Habits',\n",
       "  'Sleep Patterns',\n",
       "  'History of Mental Illness',\n",
       "  'History of Substance Abuse',\n",
       "  'Family History of Depression',\n",
       "  'Chronic Medical Conditions'],\n",
       " ['Age', 'Number of Children', 'Income'])"
      ]
     },
     "execution_count": 8,
     "metadata": {},
     "output_type": "execute_result"
    }
   ],
   "source": [
    "categorical_features, numerical_features"
   ]
  },
  {
   "cell_type": "markdown",
   "id": "1979da26",
   "metadata": {
    "papermill": {
     "duration": 0.010586,
     "end_time": "2024-11-23T16:09:15.520905",
     "exception": false,
     "start_time": "2024-11-23T16:09:15.510319",
     "status": "completed"
    },
    "tags": []
   },
   "source": [
    "Now, we change the data type of some features since these features have a limited set of distinct values and should be converted to categorical."
   ]
  },
  {
   "cell_type": "code",
   "execution_count": 9,
   "id": "b30226a3",
   "metadata": {
    "execution": {
     "iopub.execute_input": "2024-11-23T16:09:15.543806Z",
     "iopub.status.busy": "2024-11-23T16:09:15.543558Z",
     "iopub.status.idle": "2024-11-23T16:09:15.943608Z",
     "shell.execute_reply": "2024-11-23T16:09:15.942773Z"
    },
    "papermill": {
     "duration": 0.413839,
     "end_time": "2024-11-23T16:09:15.945499",
     "exception": false,
     "start_time": "2024-11-23T16:09:15.531660",
     "status": "completed"
    },
    "tags": []
   },
   "outputs": [
    {
     "name": "stdout",
     "output_type": "stream",
     "text": [
      "Name                              object\n",
      "Age                              float64\n",
      "Marital Status                  category\n",
      "Education Level                 category\n",
      "Number of Children               float64\n",
      "Smoking Status                  category\n",
      "Physical Activity Level         category\n",
      "Employment Status               category\n",
      "Income                           float64\n",
      "Alcohol Consumption             category\n",
      "Dietary Habits                  category\n",
      "Sleep Patterns                  category\n",
      "History of Mental Illness       category\n",
      "History of Substance Abuse      category\n",
      "Family History of Depression    category\n",
      "Chronic Medical Conditions      category\n",
      "dtype: object\n"
     ]
    }
   ],
   "source": [
    "# Create a list for columns to convert\n",
    "columns_to_convert = [col for col in categorical_features if col != \"Name\"]\n",
    "\n",
    "# Convert selected columns to 'category'\n",
    "df[columns_to_convert] = df[columns_to_convert].astype(\"category\")\n",
    "\n",
    "# Verify the changes\n",
    "print(df.dtypes)"
   ]
  },
  {
   "cell_type": "code",
   "execution_count": 10,
   "id": "128cdb02",
   "metadata": {
    "execution": {
     "iopub.execute_input": "2024-11-23T16:09:15.969496Z",
     "iopub.status.busy": "2024-11-23T16:09:15.969223Z",
     "iopub.status.idle": "2024-11-23T16:09:16.049207Z",
     "shell.execute_reply": "2024-11-23T16:09:16.048254Z"
    },
    "papermill": {
     "duration": 0.093859,
     "end_time": "2024-11-23T16:09:16.051106",
     "exception": false,
     "start_time": "2024-11-23T16:09:15.957247",
     "status": "completed"
    },
    "tags": []
   },
   "outputs": [
    {
     "name": "stdout",
     "output_type": "stream",
     "text": [
      "                       count          mean           std    min       25%  \\\n",
      "Age                 401585.0     48.999933     18.160828  18.00     33.00   \n",
      "Number of Children  401473.0      1.298690      1.236892   0.00      0.00   \n",
      "Income              401577.0  50656.512581  40626.241790   0.41  20988.84   \n",
      "\n",
      "                         50%       75%        max  \n",
      "Age                    49.00     65.00      80.00  \n",
      "Number of Children      1.00      2.00       4.00  \n",
      "Income              37508.45  76614.36  209995.22  \n"
     ]
    }
   ],
   "source": [
    "# Summarize numerical features (mean, min, max, etc.)\n",
    "print(df.describe().T)"
   ]
  },
  {
   "cell_type": "markdown",
   "id": "64a6ca5d",
   "metadata": {
    "papermill": {
     "duration": 0.011619,
     "end_time": "2024-11-23T16:09:16.075633",
     "exception": false,
     "start_time": "2024-11-23T16:09:16.064014",
     "status": "completed"
    },
    "tags": []
   },
   "source": [
    "## 3. Data Cleaning and Preprocessing"
   ]
  },
  {
   "cell_type": "markdown",
   "id": "38640c1a",
   "metadata": {
    "papermill": {
     "duration": 0.011343,
     "end_time": "2024-11-23T16:09:16.098557",
     "exception": false,
     "start_time": "2024-11-23T16:09:16.087214",
     "status": "completed"
    },
    "tags": []
   },
   "source": [
    "### 3. 1. Handle Missing Values"
   ]
  },
  {
   "cell_type": "code",
   "execution_count": 11,
   "id": "1f2cc537",
   "metadata": {
    "execution": {
     "iopub.execute_input": "2024-11-23T16:09:16.122958Z",
     "iopub.status.busy": "2024-11-23T16:09:16.122668Z",
     "iopub.status.idle": "2024-11-23T16:09:16.152112Z",
     "shell.execute_reply": "2024-11-23T16:09:16.151017Z"
    },
    "papermill": {
     "duration": 0.043781,
     "end_time": "2024-11-23T16:09:16.153890",
     "exception": false,
     "start_time": "2024-11-23T16:09:16.110109",
     "status": "completed"
    },
    "tags": []
   },
   "outputs": [
    {
     "name": "stdout",
     "output_type": "stream",
     "text": [
      "Name                            12201\n",
      "Age                             12183\n",
      "Marital Status                  12356\n",
      "Education Level                 12293\n",
      "Number of Children              12295\n",
      "Smoking Status                  12274\n",
      "Physical Activity Level         12071\n",
      "Employment Status               12222\n",
      "Income                          12191\n",
      "Alcohol Consumption             12482\n",
      "Dietary Habits                  12102\n",
      "Sleep Patterns                  12199\n",
      "History of Mental Illness       12014\n",
      "History of Substance Abuse      12255\n",
      "Family History of Depression    12132\n",
      "Chronic Medical Conditions      12351\n",
      "dtype: int64\n"
     ]
    }
   ],
   "source": [
    "# Check the missing values in each column\n",
    "missing_values = df.isnull().sum()\n",
    "print(missing_values)"
   ]
  },
  {
   "cell_type": "code",
   "execution_count": 12,
   "id": "d9231256",
   "metadata": {
    "execution": {
     "iopub.execute_input": "2024-11-23T16:09:16.177975Z",
     "iopub.status.busy": "2024-11-23T16:09:16.177699Z",
     "iopub.status.idle": "2024-11-23T16:09:16.183205Z",
     "shell.execute_reply": "2024-11-23T16:09:16.182014Z"
    },
    "papermill": {
     "duration": 0.01989,
     "end_time": "2024-11-23T16:09:16.185405",
     "exception": false,
     "start_time": "2024-11-23T16:09:16.165515",
     "status": "completed"
    },
    "tags": []
   },
   "outputs": [
    {
     "name": "stdout",
     "output_type": "stream",
     "text": [
      "Name                            2.948754\n",
      "Age                             2.944404\n",
      "Marital Status                  2.986214\n",
      "Education Level                 2.970989\n",
      "Number of Children              2.971472\n",
      "Smoking Status                  2.966397\n",
      "Physical Activity Level         2.917335\n",
      "Employment Status               2.953829\n",
      "Income                          2.946337\n",
      "Alcohol Consumption             3.016666\n",
      "Dietary Habits                  2.924827\n",
      "Sleep Patterns                  2.948271\n",
      "History of Mental Illness       2.903559\n",
      "History of Substance Abuse      2.961805\n",
      "Family History of Depression    2.932078\n",
      "Chronic Medical Conditions      2.985006\n",
      "dtype: float64\n"
     ]
    }
   ],
   "source": [
    "# Calculate the percentage of missing values in each column\n",
    "missing_percentage = (missing_values / len(df)) * 100\n",
    "print(missing_percentage)"
   ]
  },
  {
   "cell_type": "code",
   "execution_count": 13,
   "id": "0cc4621a",
   "metadata": {
    "execution": {
     "iopub.execute_input": "2024-11-23T16:09:16.212059Z",
     "iopub.status.busy": "2024-11-23T16:09:16.211806Z",
     "iopub.status.idle": "2024-11-23T16:09:16.289042Z",
     "shell.execute_reply": "2024-11-23T16:09:16.288109Z"
    },
    "papermill": {
     "duration": 0.091769,
     "end_time": "2024-11-23T16:09:16.290811",
     "exception": false,
     "start_time": "2024-11-23T16:09:16.199042",
     "status": "completed"
    },
    "tags": []
   },
   "outputs": [
    {
     "name": "stdout",
     "output_type": "stream",
     "text": [
      "Name                            401567\n",
      "Age                             401585\n",
      "Marital Status                  401412\n",
      "Education Level                 401475\n",
      "Number of Children              401473\n",
      "Smoking Status                  401494\n",
      "Physical Activity Level         401697\n",
      "Employment Status               401546\n",
      "Income                          401577\n",
      "Alcohol Consumption             401286\n",
      "Dietary Habits                  401666\n",
      "Sleep Patterns                  401569\n",
      "History of Mental Illness       401754\n",
      "History of Substance Abuse      401513\n",
      "Family History of Depression    401636\n",
      "Chronic Medical Conditions      401417\n",
      "dtype: int64\n",
      "The dataset contains a total of 6424667 non-missing and 195621 missing observations.\n"
     ]
    }
   ],
   "source": [
    "# Calculate non missing values\n",
    "non_missing_values = df.notnull().sum()\n",
    "print(non_missing_values)\n",
    "print(f\"The dataset contains a total of {df.notnull().sum().sum()} non-missing and {df.isnull().sum().sum()} missing observations.\")"
   ]
  },
  {
   "cell_type": "code",
   "execution_count": 14,
   "id": "235feddf",
   "metadata": {
    "execution": {
     "iopub.execute_input": "2024-11-23T16:09:16.314901Z",
     "iopub.status.busy": "2024-11-23T16:09:16.314630Z",
     "iopub.status.idle": "2024-11-23T16:09:16.370182Z",
     "shell.execute_reply": "2024-11-23T16:09:16.369319Z"
    },
    "papermill": {
     "duration": 0.06923,
     "end_time": "2024-11-23T16:09:16.371893",
     "exception": false,
     "start_time": "2024-11-23T16:09:16.302663",
     "status": "completed"
    },
    "tags": []
   },
   "outputs": [
    {
     "data": {
      "text/html": [
       "<div>\n",
       "<style scoped>\n",
       "    .dataframe tbody tr th:only-of-type {\n",
       "        vertical-align: middle;\n",
       "    }\n",
       "\n",
       "    .dataframe tbody tr th {\n",
       "        vertical-align: top;\n",
       "    }\n",
       "\n",
       "    .dataframe thead th {\n",
       "        text-align: right;\n",
       "    }\n",
       "</style>\n",
       "<table border=\"1\" class=\"dataframe\">\n",
       "  <thead>\n",
       "    <tr style=\"text-align: right;\">\n",
       "      <th></th>\n",
       "      <th>Name</th>\n",
       "      <th>Age</th>\n",
       "      <th>Marital Status</th>\n",
       "      <th>Education Level</th>\n",
       "      <th>Number of Children</th>\n",
       "      <th>Smoking Status</th>\n",
       "      <th>Physical Activity Level</th>\n",
       "      <th>Employment Status</th>\n",
       "      <th>Income</th>\n",
       "      <th>Alcohol Consumption</th>\n",
       "      <th>Dietary Habits</th>\n",
       "      <th>Sleep Patterns</th>\n",
       "      <th>History of Mental Illness</th>\n",
       "      <th>History of Substance Abuse</th>\n",
       "      <th>Family History of Depression</th>\n",
       "      <th>Chronic Medical Conditions</th>\n",
       "    </tr>\n",
       "  </thead>\n",
       "  <tbody>\n",
       "    <tr>\n",
       "      <th>0</th>\n",
       "      <td>Christine Barker</td>\n",
       "      <td>31.0</td>\n",
       "      <td>Married</td>\n",
       "      <td>Bachelor's Degree</td>\n",
       "      <td>2.0</td>\n",
       "      <td>Non-smoker</td>\n",
       "      <td>Active</td>\n",
       "      <td>Unemployed</td>\n",
       "      <td>26265.67</td>\n",
       "      <td>Moderate</td>\n",
       "      <td>Moderate</td>\n",
       "      <td>Fair</td>\n",
       "      <td>Yes</td>\n",
       "      <td>No</td>\n",
       "      <td>Yes</td>\n",
       "      <td>Yes</td>\n",
       "    </tr>\n",
       "    <tr>\n",
       "      <th>1</th>\n",
       "      <td>Jacqueline Lewis</td>\n",
       "      <td>55.0</td>\n",
       "      <td>Married</td>\n",
       "      <td>High School</td>\n",
       "      <td>1.0</td>\n",
       "      <td>Non-smoker</td>\n",
       "      <td>Sedentary</td>\n",
       "      <td>Employed</td>\n",
       "      <td>42710.36</td>\n",
       "      <td>High</td>\n",
       "      <td>Unhealthy</td>\n",
       "      <td>Fair</td>\n",
       "      <td>Yes</td>\n",
       "      <td>No</td>\n",
       "      <td>No</td>\n",
       "      <td>Yes</td>\n",
       "    </tr>\n",
       "    <tr>\n",
       "      <th>2</th>\n",
       "      <td>Shannon Church</td>\n",
       "      <td>78.0</td>\n",
       "      <td>Widowed</td>\n",
       "      <td>Master's Degree</td>\n",
       "      <td>1.0</td>\n",
       "      <td>Non-smoker</td>\n",
       "      <td>Sedentary</td>\n",
       "      <td>Employed</td>\n",
       "      <td>125332.79</td>\n",
       "      <td>Low</td>\n",
       "      <td>Unhealthy</td>\n",
       "      <td>Good</td>\n",
       "      <td>No</td>\n",
       "      <td>No</td>\n",
       "      <td>Yes</td>\n",
       "      <td>No</td>\n",
       "    </tr>\n",
       "    <tr>\n",
       "      <th>7</th>\n",
       "      <td>Charles Kaiser</td>\n",
       "      <td>31.0</td>\n",
       "      <td>Single</td>\n",
       "      <td>High School</td>\n",
       "      <td>0.0</td>\n",
       "      <td>Non-smoker</td>\n",
       "      <td>Active</td>\n",
       "      <td>Employed</td>\n",
       "      <td>39608.18</td>\n",
       "      <td>Moderate</td>\n",
       "      <td>Unhealthy</td>\n",
       "      <td>Good</td>\n",
       "      <td>No</td>\n",
       "      <td>No</td>\n",
       "      <td>No</td>\n",
       "      <td>No</td>\n",
       "    </tr>\n",
       "    <tr>\n",
       "      <th>9</th>\n",
       "      <td>Alexander Hernandez</td>\n",
       "      <td>77.0</td>\n",
       "      <td>Married</td>\n",
       "      <td>Bachelor's Degree</td>\n",
       "      <td>2.0</td>\n",
       "      <td>Non-smoker</td>\n",
       "      <td>Sedentary</td>\n",
       "      <td>Employed</td>\n",
       "      <td>77597.84</td>\n",
       "      <td>Low</td>\n",
       "      <td>Unhealthy</td>\n",
       "      <td>Poor</td>\n",
       "      <td>Yes</td>\n",
       "      <td>No</td>\n",
       "      <td>No</td>\n",
       "      <td>No</td>\n",
       "    </tr>\n",
       "    <tr>\n",
       "      <th>...</th>\n",
       "      <td>...</td>\n",
       "      <td>...</td>\n",
       "      <td>...</td>\n",
       "      <td>...</td>\n",
       "      <td>...</td>\n",
       "      <td>...</td>\n",
       "      <td>...</td>\n",
       "      <td>...</td>\n",
       "      <td>...</td>\n",
       "      <td>...</td>\n",
       "      <td>...</td>\n",
       "      <td>...</td>\n",
       "      <td>...</td>\n",
       "      <td>...</td>\n",
       "      <td>...</td>\n",
       "      <td>...</td>\n",
       "    </tr>\n",
       "    <tr>\n",
       "      <th>413759</th>\n",
       "      <td>Travis Brewer</td>\n",
       "      <td>20.0</td>\n",
       "      <td>Single</td>\n",
       "      <td>Bachelor's Degree</td>\n",
       "      <td>0.0</td>\n",
       "      <td>Current</td>\n",
       "      <td>Sedentary</td>\n",
       "      <td>Employed</td>\n",
       "      <td>54483.50</td>\n",
       "      <td>Moderate</td>\n",
       "      <td>Unhealthy</td>\n",
       "      <td>Good</td>\n",
       "      <td>No</td>\n",
       "      <td>No</td>\n",
       "      <td>No</td>\n",
       "      <td>No</td>\n",
       "    </tr>\n",
       "    <tr>\n",
       "      <th>413760</th>\n",
       "      <td>Sophia Allen</td>\n",
       "      <td>46.0</td>\n",
       "      <td>Married</td>\n",
       "      <td>High School</td>\n",
       "      <td>1.0</td>\n",
       "      <td>Non-smoker</td>\n",
       "      <td>Sedentary</td>\n",
       "      <td>Employed</td>\n",
       "      <td>26153.32</td>\n",
       "      <td>Low</td>\n",
       "      <td>Unhealthy</td>\n",
       "      <td>Poor</td>\n",
       "      <td>Yes</td>\n",
       "      <td>No</td>\n",
       "      <td>No</td>\n",
       "      <td>Yes</td>\n",
       "    </tr>\n",
       "    <tr>\n",
       "      <th>413762</th>\n",
       "      <td>Janice Robertson</td>\n",
       "      <td>28.0</td>\n",
       "      <td>Single</td>\n",
       "      <td>Bachelor's Degree</td>\n",
       "      <td>0.0</td>\n",
       "      <td>Non-smoker</td>\n",
       "      <td>Active</td>\n",
       "      <td>Unemployed</td>\n",
       "      <td>5971.27</td>\n",
       "      <td>Moderate</td>\n",
       "      <td>Moderate</td>\n",
       "      <td>Fair</td>\n",
       "      <td>Yes</td>\n",
       "      <td>Yes</td>\n",
       "      <td>No</td>\n",
       "      <td>No</td>\n",
       "    </tr>\n",
       "    <tr>\n",
       "      <th>413766</th>\n",
       "      <td>Gary Faulkner</td>\n",
       "      <td>71.0</td>\n",
       "      <td>Married</td>\n",
       "      <td>Associate Degree</td>\n",
       "      <td>2.0</td>\n",
       "      <td>Non-smoker</td>\n",
       "      <td>Sedentary</td>\n",
       "      <td>Unemployed</td>\n",
       "      <td>24557.08</td>\n",
       "      <td>Moderate</td>\n",
       "      <td>Moderate</td>\n",
       "      <td>Poor</td>\n",
       "      <td>No</td>\n",
       "      <td>Yes</td>\n",
       "      <td>No</td>\n",
       "      <td>No</td>\n",
       "    </tr>\n",
       "    <tr>\n",
       "      <th>413767</th>\n",
       "      <td>Joseph Johnson</td>\n",
       "      <td>62.0</td>\n",
       "      <td>Widowed</td>\n",
       "      <td>Master's Degree</td>\n",
       "      <td>0.0</td>\n",
       "      <td>Former</td>\n",
       "      <td>Moderate</td>\n",
       "      <td>Employed</td>\n",
       "      <td>107125.74</td>\n",
       "      <td>Moderate</td>\n",
       "      <td>Healthy</td>\n",
       "      <td>Good</td>\n",
       "      <td>No</td>\n",
       "      <td>Yes</td>\n",
       "      <td>No</td>\n",
       "      <td>No</td>\n",
       "    </tr>\n",
       "  </tbody>\n",
       "</table>\n",
       "<p>256186 rows × 16 columns</p>\n",
       "</div>"
      ],
      "text/plain": [
       "                       Name   Age Marital Status    Education Level  \\\n",
       "0          Christine Barker  31.0        Married  Bachelor's Degree   \n",
       "1          Jacqueline Lewis  55.0        Married        High School   \n",
       "2            Shannon Church  78.0        Widowed    Master's Degree   \n",
       "7            Charles Kaiser  31.0         Single        High School   \n",
       "9       Alexander Hernandez  77.0        Married  Bachelor's Degree   \n",
       "...                     ...   ...            ...                ...   \n",
       "413759        Travis Brewer  20.0         Single  Bachelor's Degree   \n",
       "413760         Sophia Allen  46.0        Married        High School   \n",
       "413762     Janice Robertson  28.0         Single  Bachelor's Degree   \n",
       "413766        Gary Faulkner  71.0        Married   Associate Degree   \n",
       "413767       Joseph Johnson  62.0        Widowed    Master's Degree   \n",
       "\n",
       "        Number of Children Smoking Status Physical Activity Level  \\\n",
       "0                      2.0     Non-smoker                  Active   \n",
       "1                      1.0     Non-smoker               Sedentary   \n",
       "2                      1.0     Non-smoker               Sedentary   \n",
       "7                      0.0     Non-smoker                  Active   \n",
       "9                      2.0     Non-smoker               Sedentary   \n",
       "...                    ...            ...                     ...   \n",
       "413759                 0.0        Current               Sedentary   \n",
       "413760                 1.0     Non-smoker               Sedentary   \n",
       "413762                 0.0     Non-smoker                  Active   \n",
       "413766                 2.0     Non-smoker               Sedentary   \n",
       "413767                 0.0         Former                Moderate   \n",
       "\n",
       "       Employment Status     Income Alcohol Consumption Dietary Habits  \\\n",
       "0             Unemployed   26265.67            Moderate       Moderate   \n",
       "1               Employed   42710.36                High      Unhealthy   \n",
       "2               Employed  125332.79                 Low      Unhealthy   \n",
       "7               Employed   39608.18            Moderate      Unhealthy   \n",
       "9               Employed   77597.84                 Low      Unhealthy   \n",
       "...                  ...        ...                 ...            ...   \n",
       "413759          Employed   54483.50            Moderate      Unhealthy   \n",
       "413760          Employed   26153.32                 Low      Unhealthy   \n",
       "413762        Unemployed    5971.27            Moderate       Moderate   \n",
       "413766        Unemployed   24557.08            Moderate       Moderate   \n",
       "413767          Employed  107125.74            Moderate        Healthy   \n",
       "\n",
       "       Sleep Patterns History of Mental Illness History of Substance Abuse  \\\n",
       "0                Fair                       Yes                         No   \n",
       "1                Fair                       Yes                         No   \n",
       "2                Good                        No                         No   \n",
       "7                Good                        No                         No   \n",
       "9                Poor                       Yes                         No   \n",
       "...               ...                       ...                        ...   \n",
       "413759           Good                        No                         No   \n",
       "413760           Poor                       Yes                         No   \n",
       "413762           Fair                       Yes                        Yes   \n",
       "413766           Poor                        No                        Yes   \n",
       "413767           Good                        No                        Yes   \n",
       "\n",
       "       Family History of Depression Chronic Medical Conditions  \n",
       "0                               Yes                        Yes  \n",
       "1                                No                        Yes  \n",
       "2                               Yes                         No  \n",
       "7                                No                         No  \n",
       "9                                No                         No  \n",
       "...                             ...                        ...  \n",
       "413759                           No                         No  \n",
       "413760                           No                        Yes  \n",
       "413762                           No                         No  \n",
       "413766                           No                         No  \n",
       "413767                           No                         No  \n",
       "\n",
       "[256186 rows x 16 columns]"
      ]
     },
     "execution_count": 14,
     "metadata": {},
     "output_type": "execute_result"
    }
   ],
   "source": [
    "# Let's look at records that do not have any missing values.\n",
    "df[df.notnull().all(axis=1)]"
   ]
  },
  {
   "cell_type": "code",
   "execution_count": 15,
   "id": "029f0e51",
   "metadata": {
    "execution": {
     "iopub.execute_input": "2024-11-23T16:09:16.396384Z",
     "iopub.status.busy": "2024-11-23T16:09:16.396111Z",
     "iopub.status.idle": "2024-11-23T16:09:16.438871Z",
     "shell.execute_reply": "2024-11-23T16:09:16.437927Z"
    },
    "papermill": {
     "duration": 0.056668,
     "end_time": "2024-11-23T16:09:16.440601",
     "exception": false,
     "start_time": "2024-11-23T16:09:16.383933",
     "status": "completed"
    },
    "tags": []
   },
   "outputs": [
    {
     "name": "stdout",
     "output_type": "stream",
     "text": [
      "Number of individuals with no missing values: 256186\n"
     ]
    }
   ],
   "source": [
    "# Count the number of individuals (rows) that do not have any NaN values\n",
    "non_missing_count = df[df.notnull().all(axis=1)].shape[0]\n",
    "print(f\"Number of individuals with no missing values: {non_missing_count}\")"
   ]
  },
  {
   "cell_type": "markdown",
   "id": "b24c1a0d",
   "metadata": {
    "papermill": {
     "duration": 0.011474,
     "end_time": "2024-11-23T16:09:16.463984",
     "exception": false,
     "start_time": "2024-11-23T16:09:16.452510",
     "status": "completed"
    },
    "tags": []
   },
   "source": [
    "**shape[0]** gives the number of rows in the filtered DataFrame."
   ]
  },
  {
   "cell_type": "code",
   "execution_count": 16,
   "id": "e0313e34",
   "metadata": {
    "execution": {
     "iopub.execute_input": "2024-11-23T16:09:16.488113Z",
     "iopub.status.busy": "2024-11-23T16:09:16.487859Z",
     "iopub.status.idle": "2024-11-23T16:09:16.542629Z",
     "shell.execute_reply": "2024-11-23T16:09:16.541633Z"
    },
    "papermill": {
     "duration": 0.069211,
     "end_time": "2024-11-23T16:09:16.544688",
     "exception": false,
     "start_time": "2024-11-23T16:09:16.475477",
     "status": "completed"
    },
    "tags": []
   },
   "outputs": [
    {
     "data": {
      "text/html": [
       "<div>\n",
       "<style scoped>\n",
       "    .dataframe tbody tr th:only-of-type {\n",
       "        vertical-align: middle;\n",
       "    }\n",
       "\n",
       "    .dataframe tbody tr th {\n",
       "        vertical-align: top;\n",
       "    }\n",
       "\n",
       "    .dataframe thead th {\n",
       "        text-align: right;\n",
       "    }\n",
       "</style>\n",
       "<table border=\"1\" class=\"dataframe\">\n",
       "  <thead>\n",
       "    <tr style=\"text-align: right;\">\n",
       "      <th></th>\n",
       "      <th>Name</th>\n",
       "      <th>Age</th>\n",
       "      <th>Marital Status</th>\n",
       "      <th>Education Level</th>\n",
       "      <th>Number of Children</th>\n",
       "      <th>Smoking Status</th>\n",
       "      <th>Physical Activity Level</th>\n",
       "      <th>Employment Status</th>\n",
       "      <th>Income</th>\n",
       "      <th>Alcohol Consumption</th>\n",
       "      <th>Dietary Habits</th>\n",
       "      <th>Sleep Patterns</th>\n",
       "      <th>History of Mental Illness</th>\n",
       "      <th>History of Substance Abuse</th>\n",
       "      <th>Family History of Depression</th>\n",
       "      <th>Chronic Medical Conditions</th>\n",
       "    </tr>\n",
       "  </thead>\n",
       "  <tbody>\n",
       "    <tr>\n",
       "      <th>0</th>\n",
       "      <td>Christine Barker</td>\n",
       "      <td>31.0</td>\n",
       "      <td>Married</td>\n",
       "      <td>Bachelor's Degree</td>\n",
       "      <td>2.0</td>\n",
       "      <td>Non-smoker</td>\n",
       "      <td>Active</td>\n",
       "      <td>Unemployed</td>\n",
       "      <td>26265.67</td>\n",
       "      <td>Moderate</td>\n",
       "      <td>Moderate</td>\n",
       "      <td>Fair</td>\n",
       "      <td>Yes</td>\n",
       "      <td>No</td>\n",
       "      <td>Yes</td>\n",
       "      <td>Yes</td>\n",
       "    </tr>\n",
       "    <tr>\n",
       "      <th>1</th>\n",
       "      <td>Jacqueline Lewis</td>\n",
       "      <td>55.0</td>\n",
       "      <td>Married</td>\n",
       "      <td>High School</td>\n",
       "      <td>1.0</td>\n",
       "      <td>Non-smoker</td>\n",
       "      <td>Sedentary</td>\n",
       "      <td>Employed</td>\n",
       "      <td>42710.36</td>\n",
       "      <td>High</td>\n",
       "      <td>Unhealthy</td>\n",
       "      <td>Fair</td>\n",
       "      <td>Yes</td>\n",
       "      <td>No</td>\n",
       "      <td>No</td>\n",
       "      <td>Yes</td>\n",
       "    </tr>\n",
       "    <tr>\n",
       "      <th>2</th>\n",
       "      <td>Shannon Church</td>\n",
       "      <td>78.0</td>\n",
       "      <td>Widowed</td>\n",
       "      <td>Master's Degree</td>\n",
       "      <td>1.0</td>\n",
       "      <td>Non-smoker</td>\n",
       "      <td>Sedentary</td>\n",
       "      <td>Employed</td>\n",
       "      <td>125332.79</td>\n",
       "      <td>Low</td>\n",
       "      <td>Unhealthy</td>\n",
       "      <td>Good</td>\n",
       "      <td>No</td>\n",
       "      <td>No</td>\n",
       "      <td>Yes</td>\n",
       "      <td>No</td>\n",
       "    </tr>\n",
       "    <tr>\n",
       "      <th>3</th>\n",
       "      <td>Charles Jordan</td>\n",
       "      <td>58.0</td>\n",
       "      <td>Divorced</td>\n",
       "      <td>Master's Degree</td>\n",
       "      <td>3.0</td>\n",
       "      <td>Non-smoker</td>\n",
       "      <td>Moderate</td>\n",
       "      <td>Unemployed</td>\n",
       "      <td>9992.78</td>\n",
       "      <td>Moderate</td>\n",
       "      <td>Moderate</td>\n",
       "      <td>Poor</td>\n",
       "      <td>NaN</td>\n",
       "      <td>No</td>\n",
       "      <td>No</td>\n",
       "      <td>No</td>\n",
       "    </tr>\n",
       "    <tr>\n",
       "      <th>4</th>\n",
       "      <td>Michael Rich</td>\n",
       "      <td>18.0</td>\n",
       "      <td>Single</td>\n",
       "      <td>High School</td>\n",
       "      <td>0.0</td>\n",
       "      <td>Non-smoker</td>\n",
       "      <td>Sedentary</td>\n",
       "      <td>Unemployed</td>\n",
       "      <td>8595.08</td>\n",
       "      <td>NaN</td>\n",
       "      <td>Moderate</td>\n",
       "      <td>Fair</td>\n",
       "      <td>Yes</td>\n",
       "      <td>No</td>\n",
       "      <td>Yes</td>\n",
       "      <td>Yes</td>\n",
       "    </tr>\n",
       "    <tr>\n",
       "      <th>...</th>\n",
       "      <td>...</td>\n",
       "      <td>...</td>\n",
       "      <td>...</td>\n",
       "      <td>...</td>\n",
       "      <td>...</td>\n",
       "      <td>...</td>\n",
       "      <td>...</td>\n",
       "      <td>...</td>\n",
       "      <td>...</td>\n",
       "      <td>...</td>\n",
       "      <td>...</td>\n",
       "      <td>...</td>\n",
       "      <td>...</td>\n",
       "      <td>...</td>\n",
       "      <td>...</td>\n",
       "      <td>...</td>\n",
       "    </tr>\n",
       "    <tr>\n",
       "      <th>413763</th>\n",
       "      <td>Sean Miller</td>\n",
       "      <td>68.0</td>\n",
       "      <td>Married</td>\n",
       "      <td>Master's Degree</td>\n",
       "      <td>0.0</td>\n",
       "      <td>Former</td>\n",
       "      <td>Moderate</td>\n",
       "      <td>Employed</td>\n",
       "      <td>109233.43</td>\n",
       "      <td>Low</td>\n",
       "      <td>NaN</td>\n",
       "      <td>Good</td>\n",
       "      <td>No</td>\n",
       "      <td>No</td>\n",
       "      <td>No</td>\n",
       "      <td>No</td>\n",
       "    </tr>\n",
       "    <tr>\n",
       "      <th>413764</th>\n",
       "      <td>Christina Brown</td>\n",
       "      <td>26.0</td>\n",
       "      <td>Single</td>\n",
       "      <td>Bachelor's Degree</td>\n",
       "      <td>NaN</td>\n",
       "      <td>Current</td>\n",
       "      <td>Active</td>\n",
       "      <td>Employed</td>\n",
       "      <td>96760.97</td>\n",
       "      <td>Low</td>\n",
       "      <td>Healthy</td>\n",
       "      <td>Poor</td>\n",
       "      <td>Yes</td>\n",
       "      <td>Yes</td>\n",
       "      <td>No</td>\n",
       "      <td>Yes</td>\n",
       "    </tr>\n",
       "    <tr>\n",
       "      <th>413765</th>\n",
       "      <td>Matthew Jenkins</td>\n",
       "      <td>57.0</td>\n",
       "      <td>NaN</td>\n",
       "      <td>Bachelor's Degree</td>\n",
       "      <td>0.0</td>\n",
       "      <td>Non-smoker</td>\n",
       "      <td>Sedentary</td>\n",
       "      <td>Employed</td>\n",
       "      <td>77353.26</td>\n",
       "      <td>Moderate</td>\n",
       "      <td>Moderate</td>\n",
       "      <td>Fair</td>\n",
       "      <td>No</td>\n",
       "      <td>No</td>\n",
       "      <td>Yes</td>\n",
       "      <td>Yes</td>\n",
       "    </tr>\n",
       "    <tr>\n",
       "      <th>413766</th>\n",
       "      <td>Gary Faulkner</td>\n",
       "      <td>71.0</td>\n",
       "      <td>Married</td>\n",
       "      <td>Associate Degree</td>\n",
       "      <td>2.0</td>\n",
       "      <td>Non-smoker</td>\n",
       "      <td>Sedentary</td>\n",
       "      <td>Unemployed</td>\n",
       "      <td>24557.08</td>\n",
       "      <td>Moderate</td>\n",
       "      <td>Moderate</td>\n",
       "      <td>Poor</td>\n",
       "      <td>No</td>\n",
       "      <td>Yes</td>\n",
       "      <td>No</td>\n",
       "      <td>No</td>\n",
       "    </tr>\n",
       "    <tr>\n",
       "      <th>413767</th>\n",
       "      <td>Joseph Johnson</td>\n",
       "      <td>62.0</td>\n",
       "      <td>Widowed</td>\n",
       "      <td>Master's Degree</td>\n",
       "      <td>0.0</td>\n",
       "      <td>Former</td>\n",
       "      <td>Moderate</td>\n",
       "      <td>Employed</td>\n",
       "      <td>107125.74</td>\n",
       "      <td>Moderate</td>\n",
       "      <td>Healthy</td>\n",
       "      <td>Good</td>\n",
       "      <td>No</td>\n",
       "      <td>Yes</td>\n",
       "      <td>No</td>\n",
       "      <td>No</td>\n",
       "    </tr>\n",
       "  </tbody>\n",
       "</table>\n",
       "<p>413768 rows × 16 columns</p>\n",
       "</div>"
      ],
      "text/plain": [
       "                    Name   Age Marital Status    Education Level  \\\n",
       "0       Christine Barker  31.0        Married  Bachelor's Degree   \n",
       "1       Jacqueline Lewis  55.0        Married        High School   \n",
       "2         Shannon Church  78.0        Widowed    Master's Degree   \n",
       "3         Charles Jordan  58.0       Divorced    Master's Degree   \n",
       "4           Michael Rich  18.0         Single        High School   \n",
       "...                  ...   ...            ...                ...   \n",
       "413763       Sean Miller  68.0        Married    Master's Degree   \n",
       "413764   Christina Brown  26.0         Single  Bachelor's Degree   \n",
       "413765   Matthew Jenkins  57.0            NaN  Bachelor's Degree   \n",
       "413766     Gary Faulkner  71.0        Married   Associate Degree   \n",
       "413767    Joseph Johnson  62.0        Widowed    Master's Degree   \n",
       "\n",
       "        Number of Children Smoking Status Physical Activity Level  \\\n",
       "0                      2.0     Non-smoker                  Active   \n",
       "1                      1.0     Non-smoker               Sedentary   \n",
       "2                      1.0     Non-smoker               Sedentary   \n",
       "3                      3.0     Non-smoker                Moderate   \n",
       "4                      0.0     Non-smoker               Sedentary   \n",
       "...                    ...            ...                     ...   \n",
       "413763                 0.0         Former                Moderate   \n",
       "413764                 NaN        Current                  Active   \n",
       "413765                 0.0     Non-smoker               Sedentary   \n",
       "413766                 2.0     Non-smoker               Sedentary   \n",
       "413767                 0.0         Former                Moderate   \n",
       "\n",
       "       Employment Status     Income Alcohol Consumption Dietary Habits  \\\n",
       "0             Unemployed   26265.67            Moderate       Moderate   \n",
       "1               Employed   42710.36                High      Unhealthy   \n",
       "2               Employed  125332.79                 Low      Unhealthy   \n",
       "3             Unemployed    9992.78            Moderate       Moderate   \n",
       "4             Unemployed    8595.08                 NaN       Moderate   \n",
       "...                  ...        ...                 ...            ...   \n",
       "413763          Employed  109233.43                 Low            NaN   \n",
       "413764          Employed   96760.97                 Low        Healthy   \n",
       "413765          Employed   77353.26            Moderate       Moderate   \n",
       "413766        Unemployed   24557.08            Moderate       Moderate   \n",
       "413767          Employed  107125.74            Moderate        Healthy   \n",
       "\n",
       "       Sleep Patterns History of Mental Illness History of Substance Abuse  \\\n",
       "0                Fair                       Yes                         No   \n",
       "1                Fair                       Yes                         No   \n",
       "2                Good                        No                         No   \n",
       "3                Poor                       NaN                         No   \n",
       "4                Fair                       Yes                         No   \n",
       "...               ...                       ...                        ...   \n",
       "413763           Good                        No                         No   \n",
       "413764           Poor                       Yes                        Yes   \n",
       "413765           Fair                        No                         No   \n",
       "413766           Poor                        No                        Yes   \n",
       "413767           Good                        No                        Yes   \n",
       "\n",
       "       Family History of Depression Chronic Medical Conditions  \n",
       "0                               Yes                        Yes  \n",
       "1                                No                        Yes  \n",
       "2                               Yes                         No  \n",
       "3                                No                         No  \n",
       "4                               Yes                        Yes  \n",
       "...                             ...                        ...  \n",
       "413763                           No                         No  \n",
       "413764                           No                        Yes  \n",
       "413765                          Yes                        Yes  \n",
       "413766                           No                         No  \n",
       "413767                           No                         No  \n",
       "\n",
       "[413768 rows x 16 columns]"
      ]
     },
     "execution_count": 16,
     "metadata": {},
     "output_type": "execute_result"
    }
   ],
   "source": [
    "# Check if there is an observation where all values are missing\n",
    "df.dropna(how = 'all', inplace = False)"
   ]
  },
  {
   "cell_type": "markdown",
   "id": "6076a2e7",
   "metadata": {
    "papermill": {
     "duration": 0.011936,
     "end_time": "2024-11-23T16:09:16.570365",
     "exception": false,
     "start_time": "2024-11-23T16:09:16.558429",
     "status": "completed"
    },
    "tags": []
   },
   "source": [
    "We observed earlier that there are 413,768 individuals by using df.shape. After excluding the rows where all values are missing, we still have 413,768 rows, which means there are no observations with all values missing."
   ]
  },
  {
   "cell_type": "code",
   "execution_count": 17,
   "id": "e5758c85",
   "metadata": {
    "execution": {
     "iopub.execute_input": "2024-11-23T16:09:16.595344Z",
     "iopub.status.busy": "2024-11-23T16:09:16.595065Z",
     "iopub.status.idle": "2024-11-23T16:09:16.811210Z",
     "shell.execute_reply": "2024-11-23T16:09:16.810412Z"
    },
    "papermill": {
     "duration": 0.230547,
     "end_time": "2024-11-23T16:09:16.812916",
     "exception": false,
     "start_time": "2024-11-23T16:09:16.582369",
     "status": "completed"
    },
    "tags": []
   },
   "outputs": [
    {
     "data": {
      "text/plain": [
       "Name                            0\n",
       "Age                             0\n",
       "Marital Status                  0\n",
       "Education Level                 0\n",
       "Number of Children              0\n",
       "Smoking Status                  0\n",
       "Physical Activity Level         0\n",
       "Employment Status               0\n",
       "Income                          0\n",
       "Alcohol Consumption             0\n",
       "Dietary Habits                  0\n",
       "Sleep Patterns                  0\n",
       "History of Mental Illness       0\n",
       "History of Substance Abuse      0\n",
       "Family History of Depression    0\n",
       "Chronic Medical Conditions      0\n",
       "dtype: int64"
      ]
     },
     "execution_count": 17,
     "metadata": {},
     "output_type": "execute_result"
    }
   ],
   "source": [
    "df_.isnull().sum()"
   ]
  },
  {
   "cell_type": "markdown",
   "id": "489f004d",
   "metadata": {
    "papermill": {
     "duration": 0.012317,
     "end_time": "2024-11-23T16:09:16.837747",
     "exception": false,
     "start_time": "2024-11-23T16:09:16.825430",
     "status": "completed"
    },
    "tags": []
   },
   "source": [
    "There is no missing values in the original dataset. Therefore, dropping missing values is not evaluated in this project."
   ]
  },
  {
   "cell_type": "markdown",
   "id": "f1474e75",
   "metadata": {
    "papermill": {
     "duration": 0.011859,
     "end_time": "2024-11-23T16:09:16.861415",
     "exception": false,
     "start_time": "2024-11-23T16:09:16.849556",
     "status": "completed"
    },
    "tags": []
   },
   "source": [
    "#### 3. 1. 1. Imputing Missing Data"
   ]
  },
  {
   "cell_type": "markdown",
   "id": "f2ae90ad",
   "metadata": {
    "papermill": {
     "duration": 0.011733,
     "end_time": "2024-11-23T16:09:16.885048",
     "exception": false,
     "start_time": "2024-11-23T16:09:16.873315",
     "status": "completed"
    },
    "tags": []
   },
   "source": [
    "**Distribution of Numerical Features**\n",
    "\n",
    "In this section, we visualize the distributions of three key numerical features in the dataset: **Age**, **Income**, and **Number of Children**."
   ]
  },
  {
   "cell_type": "code",
   "execution_count": 18,
   "id": "dca05b56",
   "metadata": {
    "execution": {
     "iopub.execute_input": "2024-11-23T16:09:16.910354Z",
     "iopub.status.busy": "2024-11-23T16:09:16.910110Z",
     "iopub.status.idle": "2024-11-23T16:09:17.764013Z",
     "shell.execute_reply": "2024-11-23T16:09:17.763239Z"
    },
    "papermill": {
     "duration": 0.869081,
     "end_time": "2024-11-23T16:09:17.766013",
     "exception": false,
     "start_time": "2024-11-23T16:09:16.896932",
     "status": "completed"
    },
    "tags": []
   },
   "outputs": [
    {
     "data": {
      "image/png": "[encoded data removed]",
      "text/plain": [
       "<Figure size 1200x400 with 3 Axes>"
      ]
     },
     "metadata": {},
     "output_type": "display_data"
    }
   ],
   "source": [
    "# Let's see the distributions of numerical features\n",
    "plt.figure(figsize=(12, 4))\n",
    "\n",
    "# Plot for \"Age\"\n",
    "plt.subplot(1, 3, 1)\n",
    "plt.hist(df[\"Age\"], bins=20, color='skyblue', edgecolor='black')\n",
    "plt.title(\"Age Distribution\")\n",
    "\n",
    "# Plot for \"Income\" (or any other numerical column you have)\n",
    "plt.subplot(1, 3, 2)\n",
    "plt.hist(df[\"Income\"], bins=20, color='lightgreen', edgecolor='black')\n",
    "plt.title(\"Income Distribution\")\n",
    "\n",
    "# Plot for \"Number of Children\" (or another numerical feature)\n",
    "plt.subplot(1, 3, 3)\n",
    "plt.hist(df[\"Number of Children\"], bins=20, color='lightcoral', edgecolor='black')\n",
    "plt.title(\"Number of Children Distribution\")\n",
    "\n",
    "# Show the plots\n",
    "plt.tight_layout()\n",
    "plt.show()"
   ]
  },
  {
   "cell_type": "markdown",
   "id": "c135c4f0",
   "metadata": {
    "papermill": {
     "duration": 0.01245,
     "end_time": "2024-11-23T16:09:17.791591",
     "exception": false,
     "start_time": "2024-11-23T16:09:17.779141",
     "status": "completed"
    },
    "tags": []
   },
   "source": [
    "### Distribution Observations:\r\n",
    "\r\n",
    "1. **Age Distribution**:\r\n",
    "   - The age distribution appears balanced, with values spread uniformly from ages 18 to 80.\r\n",
    "   - Notable increases in the number of individuals are observed at the boundaries (ages 18 and 80), indicating slightly higher counts compared to other ages.\r\n",
    "\r\n",
    "2. **Income Distribution**:\r\n",
    "   - The income distribution shows a clear right-skewed pattern.\r\n",
    "   - Most individuals fall into the lower-income ranges, while only a few have significantly higher incomes.\r\n",
    "\r\n",
    "3. **Number of Children**:\r\n",
    "   - The distribution decreases from 0 to 4 children.\r\n",
    "   - A sharp peak is observed at 0 children, indicating that most individuals do not have children.\r\n",
    "   - The frequencies for individuals with 1, 2, and 3 children are nearly identical, while very few have 4 children.\r\n"
   ]
  },
  {
   "cell_type": "code",
   "execution_count": 19,
   "id": "552c7fcf",
   "metadata": {
    "execution": {
     "iopub.execute_input": "2024-11-23T16:09:17.817929Z",
     "iopub.status.busy": "2024-11-23T16:09:17.817652Z",
     "iopub.status.idle": "2024-11-23T16:09:17.847830Z",
     "shell.execute_reply": "2024-11-23T16:09:17.846915Z"
    },
    "papermill": {
     "duration": 0.045226,
     "end_time": "2024-11-23T16:09:17.849412",
     "exception": false,
     "start_time": "2024-11-23T16:09:17.804186",
     "status": "completed"
    },
    "tags": []
   },
   "outputs": [
    {
     "data": {
      "text/html": [
       "<div>\n",
       "<style scoped>\n",
       "    .dataframe tbody tr th:only-of-type {\n",
       "        vertical-align: middle;\n",
       "    }\n",
       "\n",
       "    .dataframe tbody tr th {\n",
       "        vertical-align: top;\n",
       "    }\n",
       "\n",
       "    .dataframe thead th {\n",
       "        text-align: right;\n",
       "    }\n",
       "</style>\n",
       "<table border=\"1\" class=\"dataframe\">\n",
       "  <thead>\n",
       "    <tr style=\"text-align: right;\">\n",
       "      <th></th>\n",
       "      <th>Name</th>\n",
       "      <th>Age</th>\n",
       "      <th>Marital Status</th>\n",
       "      <th>Education Level</th>\n",
       "      <th>Number of Children</th>\n",
       "      <th>Smoking Status</th>\n",
       "      <th>Physical Activity Level</th>\n",
       "      <th>Employment Status</th>\n",
       "      <th>Income</th>\n",
       "      <th>Alcohol Consumption</th>\n",
       "      <th>Dietary Habits</th>\n",
       "      <th>Sleep Patterns</th>\n",
       "      <th>History of Mental Illness</th>\n",
       "      <th>History of Substance Abuse</th>\n",
       "      <th>Family History of Depression</th>\n",
       "      <th>Chronic Medical Conditions</th>\n",
       "    </tr>\n",
       "  </thead>\n",
       "  <tbody>\n",
       "    <tr>\n",
       "      <th>0</th>\n",
       "      <td>Christine Barker</td>\n",
       "      <td>31.0</td>\n",
       "      <td>Married</td>\n",
       "      <td>Bachelor's Degree</td>\n",
       "      <td>2.0</td>\n",
       "      <td>Non-smoker</td>\n",
       "      <td>Active</td>\n",
       "      <td>Unemployed</td>\n",
       "      <td>26265.67</td>\n",
       "      <td>Moderate</td>\n",
       "      <td>Moderate</td>\n",
       "      <td>Fair</td>\n",
       "      <td>Yes</td>\n",
       "      <td>No</td>\n",
       "      <td>Yes</td>\n",
       "      <td>Yes</td>\n",
       "    </tr>\n",
       "    <tr>\n",
       "      <th>1</th>\n",
       "      <td>Jacqueline Lewis</td>\n",
       "      <td>55.0</td>\n",
       "      <td>Married</td>\n",
       "      <td>High School</td>\n",
       "      <td>1.0</td>\n",
       "      <td>Non-smoker</td>\n",
       "      <td>Sedentary</td>\n",
       "      <td>Employed</td>\n",
       "      <td>42710.36</td>\n",
       "      <td>High</td>\n",
       "      <td>Unhealthy</td>\n",
       "      <td>Fair</td>\n",
       "      <td>Yes</td>\n",
       "      <td>No</td>\n",
       "      <td>No</td>\n",
       "      <td>Yes</td>\n",
       "    </tr>\n",
       "    <tr>\n",
       "      <th>2</th>\n",
       "      <td>Shannon Church</td>\n",
       "      <td>78.0</td>\n",
       "      <td>Widowed</td>\n",
       "      <td>Master's Degree</td>\n",
       "      <td>1.0</td>\n",
       "      <td>Non-smoker</td>\n",
       "      <td>Sedentary</td>\n",
       "      <td>Employed</td>\n",
       "      <td>125332.79</td>\n",
       "      <td>Low</td>\n",
       "      <td>Unhealthy</td>\n",
       "      <td>Good</td>\n",
       "      <td>No</td>\n",
       "      <td>No</td>\n",
       "      <td>Yes</td>\n",
       "      <td>No</td>\n",
       "    </tr>\n",
       "    <tr>\n",
       "      <th>3</th>\n",
       "      <td>Charles Jordan</td>\n",
       "      <td>58.0</td>\n",
       "      <td>Divorced</td>\n",
       "      <td>Master's Degree</td>\n",
       "      <td>3.0</td>\n",
       "      <td>Non-smoker</td>\n",
       "      <td>Moderate</td>\n",
       "      <td>Unemployed</td>\n",
       "      <td>9992.78</td>\n",
       "      <td>Moderate</td>\n",
       "      <td>Moderate</td>\n",
       "      <td>Poor</td>\n",
       "      <td>NaN</td>\n",
       "      <td>No</td>\n",
       "      <td>No</td>\n",
       "      <td>No</td>\n",
       "    </tr>\n",
       "    <tr>\n",
       "      <th>4</th>\n",
       "      <td>Michael Rich</td>\n",
       "      <td>18.0</td>\n",
       "      <td>Single</td>\n",
       "      <td>High School</td>\n",
       "      <td>0.0</td>\n",
       "      <td>Non-smoker</td>\n",
       "      <td>Sedentary</td>\n",
       "      <td>Unemployed</td>\n",
       "      <td>8595.08</td>\n",
       "      <td>NaN</td>\n",
       "      <td>Moderate</td>\n",
       "      <td>Fair</td>\n",
       "      <td>Yes</td>\n",
       "      <td>No</td>\n",
       "      <td>Yes</td>\n",
       "      <td>Yes</td>\n",
       "    </tr>\n",
       "  </tbody>\n",
       "</table>\n",
       "</div>"
      ],
      "text/plain": [
       "               Name   Age Marital Status    Education Level  \\\n",
       "0  Christine Barker  31.0        Married  Bachelor's Degree   \n",
       "1  Jacqueline Lewis  55.0        Married        High School   \n",
       "2    Shannon Church  78.0        Widowed    Master's Degree   \n",
       "3    Charles Jordan  58.0       Divorced    Master's Degree   \n",
       "4      Michael Rich  18.0         Single        High School   \n",
       "\n",
       "   Number of Children Smoking Status Physical Activity Level  \\\n",
       "0                 2.0     Non-smoker                  Active   \n",
       "1                 1.0     Non-smoker               Sedentary   \n",
       "2                 1.0     Non-smoker               Sedentary   \n",
       "3                 3.0     Non-smoker                Moderate   \n",
       "4                 0.0     Non-smoker               Sedentary   \n",
       "\n",
       "  Employment Status     Income Alcohol Consumption Dietary Habits  \\\n",
       "0        Unemployed   26265.67            Moderate       Moderate   \n",
       "1          Employed   42710.36                High      Unhealthy   \n",
       "2          Employed  125332.79                 Low      Unhealthy   \n",
       "3        Unemployed    9992.78            Moderate       Moderate   \n",
       "4        Unemployed    8595.08                 NaN       Moderate   \n",
       "\n",
       "  Sleep Patterns History of Mental Illness History of Substance Abuse  \\\n",
       "0           Fair                       Yes                         No   \n",
       "1           Fair                       Yes                         No   \n",
       "2           Good                        No                         No   \n",
       "3           Poor                       NaN                         No   \n",
       "4           Fair                       Yes                         No   \n",
       "\n",
       "  Family History of Depression Chronic Medical Conditions  \n",
       "0                          Yes                        Yes  \n",
       "1                           No                        Yes  \n",
       "2                          Yes                         No  \n",
       "3                           No                         No  \n",
       "4                          Yes                        Yes  "
      ]
     },
     "execution_count": 19,
     "metadata": {},
     "output_type": "execute_result"
    }
   ],
   "source": [
    "# Create a copy to fill missing values\n",
    "df_fillna = df.copy()\n",
    "df_fillna.head(5)"
   ]
  },
  {
   "cell_type": "markdown",
   "id": "bdd0e775",
   "metadata": {
    "papermill": {
     "duration": 0.012678,
     "end_time": "2024-11-23T16:09:17.875074",
     "exception": false,
     "start_time": "2024-11-23T16:09:17.862396",
     "status": "completed"
    },
    "tags": []
   },
   "source": [
    "#### Impute the missing values for Age\n",
    "To mimic the distribution, let's consider random imputation."
   ]
  },
  {
   "cell_type": "code",
   "execution_count": 20,
   "id": "107a4518",
   "metadata": {
    "execution": {
     "iopub.execute_input": "2024-11-23T16:09:17.901714Z",
     "iopub.status.busy": "2024-11-23T16:09:17.901413Z",
     "iopub.status.idle": "2024-11-23T16:09:18.117457Z",
     "shell.execute_reply": "2024-11-23T16:09:18.116724Z"
    },
    "papermill": {
     "duration": 0.231891,
     "end_time": "2024-11-23T16:09:18.119722",
     "exception": false,
     "start_time": "2024-11-23T16:09:17.887831",
     "status": "completed"
    },
    "tags": []
   },
   "outputs": [],
   "source": [
    "import random\n",
    "df_fillna['Age'] = df_fillna['Age'].apply(lambda x: random.randint(18, 80) if pd.isnull(x) else x)"
   ]
  },
  {
   "cell_type": "markdown",
   "id": "2e8ec4d4",
   "metadata": {
    "papermill": {
     "duration": 0.013777,
     "end_time": "2024-11-23T16:09:18.148418",
     "exception": false,
     "start_time": "2024-11-23T16:09:18.134641",
     "status": "completed"
    },
    "tags": []
   },
   "source": [
    "#### Impute the missing values for Income\n",
    "Firstly, we consider imputing missing values based on income groups, if it correlates with income."
   ]
  },
  {
   "cell_type": "code",
   "execution_count": 21,
   "id": "90dbbaac",
   "metadata": {
    "execution": {
     "iopub.execute_input": "2024-11-23T16:09:18.175453Z",
     "iopub.status.busy": "2024-11-23T16:09:18.175148Z",
     "iopub.status.idle": "2024-11-23T16:09:18.219729Z",
     "shell.execute_reply": "2024-11-23T16:09:18.218707Z"
    },
    "papermill": {
     "duration": 0.061067,
     "end_time": "2024-11-23T16:09:18.222434",
     "exception": false,
     "start_time": "2024-11-23T16:09:18.161367",
     "status": "completed"
    },
    "tags": []
   },
   "outputs": [
    {
     "name": "stdout",
     "output_type": "stream",
     "text": [
      "                      count          mean           std       min         25%  \\\n",
      "Employment Status                                                               \n",
      "Employed           250062.0  70541.836662  37763.051923  22500.65  39056.0750   \n",
      "Unemployed         139630.0  15037.236879   8662.480999      0.41   7555.4375   \n",
      "\n",
      "                        50%         75%        max  \n",
      "Employment Status                                   \n",
      "Employed           61522.05  94869.7475  209995.22  \n",
      "Unemployed         15059.30  22549.9500   29999.88  \n"
     ]
    },
    {
     "name": "stderr",
     "output_type": "stream",
     "text": [
      "/tmp/ipykernel_23/2730003720.py:2: FutureWarning: The default of observed=False is deprecated and will be changed to True in a future version of pandas. Pass observed=False to retain current behavior or observed=True to adopt the future default and silence this warning.\n",
      "  income_by_employment = df_fillna.groupby(\"Employment Status\")[\"Income\"].describe()\n"
     ]
    }
   ],
   "source": [
    "# Group income statistics by Employment Status in df_fillna\n",
    "income_by_employment = df_fillna.groupby(\"Employment Status\")[\"Income\"].describe()\n",
    "print(income_by_employment)"
   ]
  },
  {
   "cell_type": "markdown",
   "id": "72165624",
   "metadata": {
    "papermill": {
     "duration": 0.013384,
     "end_time": "2024-11-23T16:09:18.250765",
     "exception": false,
     "start_time": "2024-11-23T16:09:18.237381",
     "status": "completed"
    },
    "tags": []
   },
   "source": [
    "Based on the summary statistics, there appears to be a strong relationship between Employment Status and Income:\n",
    "\n",
    "- Employed individuals have a significantly higher mean income (\\~70,542) compared to Unemployed individuals (\\~15,037).\n",
    "- The income distribution of employed individuals has a wider spread, with a standard deviation of \\~37,763, compared to \\~8,662 for the unemployed group.\n",
    "- The median income for employed individuals (\\~61,522) is much higher than that for unemployed individuals (\\~15,059).\n",
    "\n",
    "Therefore, imputing missing Income values based on Employment Status is a logical choice."
   ]
  },
  {
   "cell_type": "code",
   "execution_count": 22,
   "id": "1008bf1b",
   "metadata": {
    "execution": {
     "iopub.execute_input": "2024-11-23T16:09:18.279643Z",
     "iopub.status.busy": "2024-11-23T16:09:18.278924Z",
     "iopub.status.idle": "2024-11-23T16:09:18.529738Z",
     "shell.execute_reply": "2024-11-23T16:09:18.528789Z"
    },
    "papermill": {
     "duration": 0.267251,
     "end_time": "2024-11-23T16:09:18.531404",
     "exception": false,
     "start_time": "2024-11-23T16:09:18.264153",
     "status": "completed"
    },
    "tags": []
   },
   "outputs": [
    {
     "name": "stderr",
     "output_type": "stream",
     "text": [
      "/opt/conda/lib/python3.10/site-packages/seaborn/categorical.py:641: FutureWarning: The default of observed=False is deprecated and will be changed to True in a future version of pandas. Pass observed=False to retain current behavior or observed=True to adopt the future default and silence this warning.\n",
      "  grouped_vals = vals.groupby(grouper)\n"
     ]
    },
    {
     "data": {
      "image/png": "[encoded data removed]",
      "text/plain": [
       "<Figure size 1000x600 with 1 Axes>"
      ]
     },
     "metadata": {},
     "output_type": "display_data"
    }
   ],
   "source": [
    "# Let's see the correlation as boxplot\n",
    "plt.figure(figsize=(10, 6))\n",
    "sns.boxplot(x=\"Employment Status\", y=\"Income\", data=df_fillna)\n",
    "plt.title(\"Income Distribution by Employment Status\")\n",
    "plt.xticks(rotation=45)\n",
    "plt.show()"
   ]
  },
  {
   "cell_type": "markdown",
   "id": "f3fcd246",
   "metadata": {
    "papermill": {
     "duration": 0.013034,
     "end_time": "2024-11-23T16:09:18.558774",
     "exception": false,
     "start_time": "2024-11-23T16:09:18.545740",
     "status": "completed"
    },
    "tags": []
   },
   "source": [
    "HOWEVER, there are outliers in the income distribution of employed individuals. It could be a potential concern when imputing missing values by employment status. This could lead to imputations that are biased towards the higher end of the income scale."
   ]
  },
  {
   "cell_type": "code",
   "execution_count": 23,
   "id": "a2938021",
   "metadata": {
    "execution": {
     "iopub.execute_input": "2024-11-23T16:09:18.586411Z",
     "iopub.status.busy": "2024-11-23T16:09:18.586153Z",
     "iopub.status.idle": "2024-11-23T16:09:20.862974Z",
     "shell.execute_reply": "2024-11-23T16:09:20.862070Z"
    },
    "papermill": {
     "duration": 2.292717,
     "end_time": "2024-11-23T16:09:20.864893",
     "exception": false,
     "start_time": "2024-11-23T16:09:18.572176",
     "status": "completed"
    },
    "tags": []
   },
   "outputs": [
    {
     "name": "stderr",
     "output_type": "stream",
     "text": [
      "/opt/conda/lib/python3.10/site-packages/seaborn/_oldcore.py:1119: FutureWarning: use_inf_as_na option is deprecated and will be removed in a future version. Convert inf values to NaN before operating instead.\n",
      "  with pd.option_context('mode.use_inf_as_na', True):\n",
      "/opt/conda/lib/python3.10/site-packages/seaborn/_oldcore.py:1057: FutureWarning: The default of observed=False is deprecated and will be changed to True in a future version of pandas. Pass observed=False to retain current behavior or observed=True to adopt the future default and silence this warning.\n",
      "  grouped_data = data.groupby(\n",
      "/opt/conda/lib/python3.10/site-packages/seaborn/_oldcore.py:1075: FutureWarning: When grouping with a length-1 list-like, you will need to pass a length-1 tuple to get_group in a future version of pandas. Pass `(name,)` instead of `name` to silence this warning.\n",
      "  data_subset = grouped_data.get_group(pd_key)\n",
      "/opt/conda/lib/python3.10/site-packages/seaborn/_oldcore.py:1057: FutureWarning: The default of observed=False is deprecated and will be changed to True in a future version of pandas. Pass observed=False to retain current behavior or observed=True to adopt the future default and silence this warning.\n",
      "  grouped_data = data.groupby(\n",
      "/opt/conda/lib/python3.10/site-packages/seaborn/_oldcore.py:1075: FutureWarning: When grouping with a length-1 list-like, you will need to pass a length-1 tuple to get_group in a future version of pandas. Pass `(name,)` instead of `name` to silence this warning.\n",
      "  data_subset = grouped_data.get_group(pd_key)\n",
      "/opt/conda/lib/python3.10/site-packages/seaborn/_oldcore.py:1075: FutureWarning: When grouping with a length-1 list-like, you will need to pass a length-1 tuple to get_group in a future version of pandas. Pass `(name,)` instead of `name` to silence this warning.\n",
      "  data_subset = grouped_data.get_group(pd_key)\n"
     ]
    },
    {
     "data": {
      "image/png": "[encoded data removed]",
      "text/plain": [
       "<Figure size 1000x600 with 1 Axes>"
      ]
     },
     "metadata": {},
     "output_type": "display_data"
    }
   ],
   "source": [
    "# Let's see the distribution of income by Employment Status\n",
    "# Set the style for the plot\n",
    "sns.set(style=\"whitegrid\")\n",
    "\n",
    "# Create the plot\n",
    "plt.figure(figsize=(10, 6))\n",
    "\n",
    "# Plot the distribution of income by employment status\n",
    "sns.histplot(data=df_fillna, x='Income', hue='Employment Status', multiple=\"stack\", kde=True)\n",
    "\n",
    "# Add labels and title\n",
    "plt.title('Income Distribution by Employment Status')\n",
    "plt.xlabel('Income')\n",
    "plt.ylabel('Frequency')\n",
    "\n",
    "# Show the plot\n",
    "plt.show()"
   ]
  },
  {
   "cell_type": "markdown",
   "id": "1ed28ff1",
   "metadata": {
    "papermill": {
     "duration": 0.016421,
     "end_time": "2024-11-23T16:09:20.896685",
     "exception": false,
     "start_time": "2024-11-23T16:09:20.880264",
     "status": "completed"
    },
    "tags": []
   },
   "source": [
    "Based on the analysis of the income distribution for **Employed** and **Unemployed** individuals, it is evident that these two groups have distinct income patterns. To handle the missing income values, we will impute them using the **median income** for each group.\n",
    "\n",
    "**Why Use Median:**\n",
    "- The **median** is robust to outliers, meaning it won’t be skewed by extreme income values, making it a reliable statistic for imputing missing data.\n",
    "- By using different medians for the **Employed** and **Unemployed** groups, we ensure that each group's income distribution is respected, preserving the natural differences between the groups."
   ]
  },
  {
   "cell_type": "code",
   "execution_count": 24,
   "id": "0e5bd106",
   "metadata": {
    "execution": {
     "iopub.execute_input": "2024-11-23T16:09:20.927617Z",
     "iopub.status.busy": "2024-11-23T16:09:20.927271Z",
     "iopub.status.idle": "2024-11-23T16:09:21.007171Z",
     "shell.execute_reply": "2024-11-23T16:09:21.006468Z"
    },
    "papermill": {
     "duration": 0.097646,
     "end_time": "2024-11-23T16:09:21.009128",
     "exception": false,
     "start_time": "2024-11-23T16:09:20.911482",
     "status": "completed"
    },
    "tags": []
   },
   "outputs": [],
   "source": [
    "# Imputing missing 'Income' values by median for 'Employed' and 'Unemployed' groups\n",
    "df_fillna['Income'] = df_fillna.groupby('Employment Status', observed=False)['Income'].transform(\n",
    "    lambda x: x.fillna(x.median())\n",
    ")"
   ]
  },
  {
   "cell_type": "markdown",
   "id": "0b717f5c",
   "metadata": {
    "papermill": {
     "duration": 0.01418,
     "end_time": "2024-11-23T16:09:21.038305",
     "exception": false,
     "start_time": "2024-11-23T16:09:21.024125",
     "status": "completed"
    },
    "tags": []
   },
   "source": [
    "#### Impute the missing values for Number of Children"
   ]
  },
  {
   "cell_type": "code",
   "execution_count": 25,
   "id": "118c8677",
   "metadata": {
    "execution": {
     "iopub.execute_input": "2024-11-23T16:09:21.069213Z",
     "iopub.status.busy": "2024-11-23T16:09:21.068454Z",
     "iopub.status.idle": "2024-11-23T16:09:21.641064Z",
     "shell.execute_reply": "2024-11-23T16:09:21.640360Z"
    },
    "papermill": {
     "duration": 0.590012,
     "end_time": "2024-11-23T16:09:21.643088",
     "exception": false,
     "start_time": "2024-11-23T16:09:21.053076",
     "status": "completed"
    },
    "tags": []
   },
   "outputs": [],
   "source": [
    "# Use random imputation proportional to the distribution\n",
    "\n",
    "# Define probabilities based on observed distribution\n",
    "prob_dist = df_fillna['Number of Children'].value_counts(normalize=True)\n",
    "df_fillna['Number of Children'] = df_fillna['Number of Children'].apply(\n",
    "    lambda x: np.random.choice(prob_dist.index, p=prob_dist.values) if pd.isnull(x) else x\n",
    ")"
   ]
  },
  {
   "cell_type": "code",
   "execution_count": 26,
   "id": "c852b437",
   "metadata": {
    "execution": {
     "iopub.execute_input": "2024-11-23T16:09:21.679619Z",
     "iopub.status.busy": "2024-11-23T16:09:21.679302Z",
     "iopub.status.idle": "2024-11-23T16:09:21.708856Z",
     "shell.execute_reply": "2024-11-23T16:09:21.708136Z"
    },
    "papermill": {
     "duration": 0.046481,
     "end_time": "2024-11-23T16:09:21.710310",
     "exception": false,
     "start_time": "2024-11-23T16:09:21.663829",
     "status": "completed"
    },
    "tags": []
   },
   "outputs": [
    {
     "data": {
      "text/plain": [
       "Name                            12201\n",
       "Age                                 0\n",
       "Marital Status                  12356\n",
       "Education Level                 12293\n",
       "Number of Children                  0\n",
       "Smoking Status                  12274\n",
       "Physical Activity Level         12071\n",
       "Employment Status               12222\n",
       "Income                          12222\n",
       "Alcohol Consumption             12482\n",
       "Dietary Habits                  12102\n",
       "Sleep Patterns                  12199\n",
       "History of Mental Illness       12014\n",
       "History of Substance Abuse      12255\n",
       "Family History of Depression    12132\n",
       "Chronic Medical Conditions      12351\n",
       "dtype: int64"
      ]
     },
     "execution_count": 26,
     "metadata": {},
     "output_type": "execute_result"
    }
   ],
   "source": [
    "# Let's check the missing values of numerical features again!\n",
    "\n",
    "df_fillna.isnull().sum()"
   ]
  },
  {
   "cell_type": "code",
   "execution_count": 27,
   "id": "98defffc",
   "metadata": {
    "execution": {
     "iopub.execute_input": "2024-11-23T16:09:21.740008Z",
     "iopub.status.busy": "2024-11-23T16:09:21.739753Z",
     "iopub.status.idle": "2024-11-23T16:09:21.800030Z",
     "shell.execute_reply": "2024-11-23T16:09:21.799208Z"
    },
    "papermill": {
     "duration": 0.077085,
     "end_time": "2024-11-23T16:09:21.801791",
     "exception": false,
     "start_time": "2024-11-23T16:09:21.724706",
     "status": "completed"
    },
    "tags": []
   },
   "outputs": [
    {
     "data": {
      "text/html": [
       "<div>\n",
       "<style scoped>\n",
       "    .dataframe tbody tr th:only-of-type {\n",
       "        vertical-align: middle;\n",
       "    }\n",
       "\n",
       "    .dataframe tbody tr th {\n",
       "        vertical-align: top;\n",
       "    }\n",
       "\n",
       "    .dataframe thead th {\n",
       "        text-align: right;\n",
       "    }\n",
       "</style>\n",
       "<table border=\"1\" class=\"dataframe\">\n",
       "  <thead>\n",
       "    <tr style=\"text-align: right;\">\n",
       "      <th></th>\n",
       "      <th>Name</th>\n",
       "      <th>Age</th>\n",
       "      <th>Marital Status</th>\n",
       "      <th>Education Level</th>\n",
       "      <th>Number of Children</th>\n",
       "      <th>Smoking Status</th>\n",
       "      <th>Physical Activity Level</th>\n",
       "      <th>Employment Status</th>\n",
       "      <th>Income</th>\n",
       "      <th>Alcohol Consumption</th>\n",
       "      <th>Dietary Habits</th>\n",
       "      <th>Sleep Patterns</th>\n",
       "      <th>History of Mental Illness</th>\n",
       "      <th>History of Substance Abuse</th>\n",
       "      <th>Family History of Depression</th>\n",
       "      <th>Chronic Medical Conditions</th>\n",
       "    </tr>\n",
       "  </thead>\n",
       "  <tbody>\n",
       "    <tr>\n",
       "      <th>8</th>\n",
       "      <td>Kathryn Taylor</td>\n",
       "      <td>50.0</td>\n",
       "      <td>Divorced</td>\n",
       "      <td>Bachelor's Degree</td>\n",
       "      <td>0.0</td>\n",
       "      <td>Non-smoker</td>\n",
       "      <td>Active</td>\n",
       "      <td>NaN</td>\n",
       "      <td>NaN</td>\n",
       "      <td>Moderate</td>\n",
       "      <td>Healthy</td>\n",
       "      <td>Good</td>\n",
       "      <td>No</td>\n",
       "      <td>Yes</td>\n",
       "      <td>No</td>\n",
       "      <td>Yes</td>\n",
       "    </tr>\n",
       "    <tr>\n",
       "      <th>61</th>\n",
       "      <td>Jason Lester</td>\n",
       "      <td>56.0</td>\n",
       "      <td>NaN</td>\n",
       "      <td>Bachelor's Degree</td>\n",
       "      <td>2.0</td>\n",
       "      <td>Non-smoker</td>\n",
       "      <td>Moderate</td>\n",
       "      <td>NaN</td>\n",
       "      <td>NaN</td>\n",
       "      <td>NaN</td>\n",
       "      <td>Healthy</td>\n",
       "      <td>Poor</td>\n",
       "      <td>No</td>\n",
       "      <td>No</td>\n",
       "      <td>No</td>\n",
       "      <td>No</td>\n",
       "    </tr>\n",
       "    <tr>\n",
       "      <th>122</th>\n",
       "      <td>Jeanette Rodriguez</td>\n",
       "      <td>71.0</td>\n",
       "      <td>Widowed</td>\n",
       "      <td>High School</td>\n",
       "      <td>2.0</td>\n",
       "      <td>Non-smoker</td>\n",
       "      <td>Sedentary</td>\n",
       "      <td>NaN</td>\n",
       "      <td>NaN</td>\n",
       "      <td>High</td>\n",
       "      <td>Unhealthy</td>\n",
       "      <td>Fair</td>\n",
       "      <td>Yes</td>\n",
       "      <td>No</td>\n",
       "      <td>Yes</td>\n",
       "      <td>No</td>\n",
       "    </tr>\n",
       "    <tr>\n",
       "      <th>137</th>\n",
       "      <td>George Torres</td>\n",
       "      <td>70.0</td>\n",
       "      <td>Widowed</td>\n",
       "      <td>High School</td>\n",
       "      <td>0.0</td>\n",
       "      <td>Former</td>\n",
       "      <td>Moderate</td>\n",
       "      <td>NaN</td>\n",
       "      <td>NaN</td>\n",
       "      <td>Moderate</td>\n",
       "      <td>Moderate</td>\n",
       "      <td>Fair</td>\n",
       "      <td>Yes</td>\n",
       "      <td>No</td>\n",
       "      <td>No</td>\n",
       "      <td>Yes</td>\n",
       "    </tr>\n",
       "    <tr>\n",
       "      <th>138</th>\n",
       "      <td>Ryan Gutierrez</td>\n",
       "      <td>28.0</td>\n",
       "      <td>Single</td>\n",
       "      <td>Bachelor's Degree</td>\n",
       "      <td>0.0</td>\n",
       "      <td>Current</td>\n",
       "      <td>Active</td>\n",
       "      <td>NaN</td>\n",
       "      <td>NaN</td>\n",
       "      <td>High</td>\n",
       "      <td>Unhealthy</td>\n",
       "      <td>Poor</td>\n",
       "      <td>No</td>\n",
       "      <td>Yes</td>\n",
       "      <td>No</td>\n",
       "      <td>Yes</td>\n",
       "    </tr>\n",
       "    <tr>\n",
       "      <th>...</th>\n",
       "      <td>...</td>\n",
       "      <td>...</td>\n",
       "      <td>...</td>\n",
       "      <td>...</td>\n",
       "      <td>...</td>\n",
       "      <td>...</td>\n",
       "      <td>...</td>\n",
       "      <td>...</td>\n",
       "      <td>...</td>\n",
       "      <td>...</td>\n",
       "      <td>...</td>\n",
       "      <td>...</td>\n",
       "      <td>...</td>\n",
       "      <td>...</td>\n",
       "      <td>...</td>\n",
       "      <td>...</td>\n",
       "    </tr>\n",
       "    <tr>\n",
       "      <th>413594</th>\n",
       "      <td>Lorraine Stanley</td>\n",
       "      <td>31.0</td>\n",
       "      <td>Married</td>\n",
       "      <td>High School</td>\n",
       "      <td>2.0</td>\n",
       "      <td>Non-smoker</td>\n",
       "      <td>Active</td>\n",
       "      <td>NaN</td>\n",
       "      <td>NaN</td>\n",
       "      <td>Moderate</td>\n",
       "      <td>Moderate</td>\n",
       "      <td>Poor</td>\n",
       "      <td>No</td>\n",
       "      <td>No</td>\n",
       "      <td>No</td>\n",
       "      <td>No</td>\n",
       "    </tr>\n",
       "    <tr>\n",
       "      <th>413601</th>\n",
       "      <td>Ian Murray</td>\n",
       "      <td>80.0</td>\n",
       "      <td>Widowed</td>\n",
       "      <td>Bachelor's Degree</td>\n",
       "      <td>0.0</td>\n",
       "      <td>Non-smoker</td>\n",
       "      <td>Sedentary</td>\n",
       "      <td>NaN</td>\n",
       "      <td>NaN</td>\n",
       "      <td>Moderate</td>\n",
       "      <td>Moderate</td>\n",
       "      <td>Poor</td>\n",
       "      <td>No</td>\n",
       "      <td>Yes</td>\n",
       "      <td>Yes</td>\n",
       "      <td>No</td>\n",
       "    </tr>\n",
       "    <tr>\n",
       "      <th>413620</th>\n",
       "      <td>David Garcia</td>\n",
       "      <td>20.0</td>\n",
       "      <td>Married</td>\n",
       "      <td>PhD</td>\n",
       "      <td>0.0</td>\n",
       "      <td>Former</td>\n",
       "      <td>Moderate</td>\n",
       "      <td>NaN</td>\n",
       "      <td>NaN</td>\n",
       "      <td>Moderate</td>\n",
       "      <td>Healthy</td>\n",
       "      <td>Fair</td>\n",
       "      <td>No</td>\n",
       "      <td>Yes</td>\n",
       "      <td>No</td>\n",
       "      <td>Yes</td>\n",
       "    </tr>\n",
       "    <tr>\n",
       "      <th>413664</th>\n",
       "      <td>Sarah Guerrero</td>\n",
       "      <td>22.0</td>\n",
       "      <td>Married</td>\n",
       "      <td>High School</td>\n",
       "      <td>0.0</td>\n",
       "      <td>Former</td>\n",
       "      <td>Sedentary</td>\n",
       "      <td>NaN</td>\n",
       "      <td>NaN</td>\n",
       "      <td>High</td>\n",
       "      <td>Unhealthy</td>\n",
       "      <td>Good</td>\n",
       "      <td>No</td>\n",
       "      <td>No</td>\n",
       "      <td>No</td>\n",
       "      <td>No</td>\n",
       "    </tr>\n",
       "    <tr>\n",
       "      <th>413751</th>\n",
       "      <td>Cynthia Murphy</td>\n",
       "      <td>34.0</td>\n",
       "      <td>Married</td>\n",
       "      <td>Master's Degree</td>\n",
       "      <td>1.0</td>\n",
       "      <td>Former</td>\n",
       "      <td>Moderate</td>\n",
       "      <td>NaN</td>\n",
       "      <td>NaN</td>\n",
       "      <td>Low</td>\n",
       "      <td>Moderate</td>\n",
       "      <td>Poor</td>\n",
       "      <td>Yes</td>\n",
       "      <td>No</td>\n",
       "      <td>No</td>\n",
       "      <td>No</td>\n",
       "    </tr>\n",
       "  </tbody>\n",
       "</table>\n",
       "<p>12222 rows × 16 columns</p>\n",
       "</div>"
      ],
      "text/plain": [
       "                      Name   Age Marital Status    Education Level  \\\n",
       "8           Kathryn Taylor  50.0       Divorced  Bachelor's Degree   \n",
       "61            Jason Lester  56.0            NaN  Bachelor's Degree   \n",
       "122     Jeanette Rodriguez  71.0        Widowed        High School   \n",
       "137          George Torres  70.0        Widowed        High School   \n",
       "138         Ryan Gutierrez  28.0         Single  Bachelor's Degree   \n",
       "...                    ...   ...            ...                ...   \n",
       "413594    Lorraine Stanley  31.0        Married        High School   \n",
       "413601          Ian Murray  80.0        Widowed  Bachelor's Degree   \n",
       "413620        David Garcia  20.0        Married                PhD   \n",
       "413664      Sarah Guerrero  22.0        Married        High School   \n",
       "413751      Cynthia Murphy  34.0        Married    Master's Degree   \n",
       "\n",
       "        Number of Children Smoking Status Physical Activity Level  \\\n",
       "8                      0.0     Non-smoker                  Active   \n",
       "61                     2.0     Non-smoker                Moderate   \n",
       "122                    2.0     Non-smoker               Sedentary   \n",
       "137                    0.0         Former                Moderate   \n",
       "138                    0.0        Current                  Active   \n",
       "...                    ...            ...                     ...   \n",
       "413594                 2.0     Non-smoker                  Active   \n",
       "413601                 0.0     Non-smoker               Sedentary   \n",
       "413620                 0.0         Former                Moderate   \n",
       "413664                 0.0         Former               Sedentary   \n",
       "413751                 1.0         Former                Moderate   \n",
       "\n",
       "       Employment Status  Income Alcohol Consumption Dietary Habits  \\\n",
       "8                    NaN     NaN            Moderate        Healthy   \n",
       "61                   NaN     NaN                 NaN        Healthy   \n",
       "122                  NaN     NaN                High      Unhealthy   \n",
       "137                  NaN     NaN            Moderate       Moderate   \n",
       "138                  NaN     NaN                High      Unhealthy   \n",
       "...                  ...     ...                 ...            ...   \n",
       "413594               NaN     NaN            Moderate       Moderate   \n",
       "413601               NaN     NaN            Moderate       Moderate   \n",
       "413620               NaN     NaN            Moderate        Healthy   \n",
       "413664               NaN     NaN                High      Unhealthy   \n",
       "413751               NaN     NaN                 Low       Moderate   \n",
       "\n",
       "       Sleep Patterns History of Mental Illness History of Substance Abuse  \\\n",
       "8                Good                        No                        Yes   \n",
       "61               Poor                        No                         No   \n",
       "122              Fair                       Yes                         No   \n",
       "137              Fair                       Yes                         No   \n",
       "138              Poor                        No                        Yes   \n",
       "...               ...                       ...                        ...   \n",
       "413594           Poor                        No                         No   \n",
       "413601           Poor                        No                        Yes   \n",
       "413620           Fair                        No                        Yes   \n",
       "413664           Good                        No                         No   \n",
       "413751           Poor                       Yes                         No   \n",
       "\n",
       "       Family History of Depression Chronic Medical Conditions  \n",
       "8                                No                        Yes  \n",
       "61                               No                         No  \n",
       "122                             Yes                         No  \n",
       "137                              No                        Yes  \n",
       "138                              No                        Yes  \n",
       "...                             ...                        ...  \n",
       "413594                           No                         No  \n",
       "413601                          Yes                         No  \n",
       "413620                           No                        Yes  \n",
       "413664                           No                         No  \n",
       "413751                           No                         No  \n",
       "\n",
       "[12222 rows x 16 columns]"
      ]
     },
     "execution_count": 27,
     "metadata": {},
     "output_type": "execute_result"
    }
   ],
   "source": [
    "# Check for NaN or infinite values in 'Income'\n",
    "df_fillna[df_fillna['Income'].isnull() | df_fillna['Income'].isin([float('inf'), -float('inf')])]\n"
   ]
  },
  {
   "cell_type": "markdown",
   "id": "aa68e9b7",
   "metadata": {
    "papermill": {
     "duration": 0.014533,
     "end_time": "2024-11-23T16:09:21.831355",
     "exception": false,
     "start_time": "2024-11-23T16:09:21.816822",
     "status": "completed"
    },
    "tags": []
   },
   "source": [
    "It looks like the issue may be that Income and Employment Status have missing values in the same rows, so when we're trying to impute missing Income values based on Employment Status, the Employment Status is also missing in those rows. Since Employment Status is required for grouping, rows with missing values in both Income and Employment Status would not be imputed properly."
   ]
  },
  {
   "cell_type": "markdown",
   "id": "39a604a3",
   "metadata": {
    "papermill": {
     "duration": 0.014432,
     "end_time": "2024-11-23T16:09:21.860533",
     "exception": false,
     "start_time": "2024-11-23T16:09:21.846101",
     "status": "completed"
    },
    "tags": []
   },
   "source": [
    "To adress this, let's first check how many rows have missing values in both Income and Employment Status."
   ]
  },
  {
   "cell_type": "code",
   "execution_count": 28,
   "id": "cb360eb2",
   "metadata": {
    "execution": {
     "iopub.execute_input": "2024-11-23T16:09:21.890831Z",
     "iopub.status.busy": "2024-11-23T16:09:21.890551Z",
     "iopub.status.idle": "2024-11-23T16:09:21.905523Z",
     "shell.execute_reply": "2024-11-23T16:09:21.904618Z"
    },
    "papermill": {
     "duration": 0.032017,
     "end_time": "2024-11-23T16:09:21.907229",
     "exception": false,
     "start_time": "2024-11-23T16:09:21.875212",
     "status": "completed"
    },
    "tags": []
   },
   "outputs": [
    {
     "name": "stdout",
     "output_type": "stream",
     "text": [
      "                      Name   Age Marital Status    Education Level  \\\n",
      "8           Kathryn Taylor  50.0       Divorced  Bachelor's Degree   \n",
      "61            Jason Lester  56.0            NaN  Bachelor's Degree   \n",
      "122     Jeanette Rodriguez  71.0        Widowed        High School   \n",
      "137          George Torres  70.0        Widowed        High School   \n",
      "138         Ryan Gutierrez  28.0         Single  Bachelor's Degree   \n",
      "...                    ...   ...            ...                ...   \n",
      "413594    Lorraine Stanley  31.0        Married        High School   \n",
      "413601          Ian Murray  80.0        Widowed  Bachelor's Degree   \n",
      "413620        David Garcia  20.0        Married                PhD   \n",
      "413664      Sarah Guerrero  22.0        Married        High School   \n",
      "413751      Cynthia Murphy  34.0        Married    Master's Degree   \n",
      "\n",
      "        Number of Children Smoking Status Physical Activity Level  \\\n",
      "8                      0.0     Non-smoker                  Active   \n",
      "61                     2.0     Non-smoker                Moderate   \n",
      "122                    2.0     Non-smoker               Sedentary   \n",
      "137                    0.0         Former                Moderate   \n",
      "138                    0.0        Current                  Active   \n",
      "...                    ...            ...                     ...   \n",
      "413594                 2.0     Non-smoker                  Active   \n",
      "413601                 0.0     Non-smoker               Sedentary   \n",
      "413620                 0.0         Former                Moderate   \n",
      "413664                 0.0         Former               Sedentary   \n",
      "413751                 1.0         Former                Moderate   \n",
      "\n",
      "       Employment Status  Income Alcohol Consumption Dietary Habits  \\\n",
      "8                    NaN     NaN            Moderate        Healthy   \n",
      "61                   NaN     NaN                 NaN        Healthy   \n",
      "122                  NaN     NaN                High      Unhealthy   \n",
      "137                  NaN     NaN            Moderate       Moderate   \n",
      "138                  NaN     NaN                High      Unhealthy   \n",
      "...                  ...     ...                 ...            ...   \n",
      "413594               NaN     NaN            Moderate       Moderate   \n",
      "413601               NaN     NaN            Moderate       Moderate   \n",
      "413620               NaN     NaN            Moderate        Healthy   \n",
      "413664               NaN     NaN                High      Unhealthy   \n",
      "413751               NaN     NaN                 Low       Moderate   \n",
      "\n",
      "       Sleep Patterns History of Mental Illness History of Substance Abuse  \\\n",
      "8                Good                        No                        Yes   \n",
      "61               Poor                        No                         No   \n",
      "122              Fair                       Yes                         No   \n",
      "137              Fair                       Yes                         No   \n",
      "138              Poor                        No                        Yes   \n",
      "...               ...                       ...                        ...   \n",
      "413594           Poor                        No                         No   \n",
      "413601           Poor                        No                        Yes   \n",
      "413620           Fair                        No                        Yes   \n",
      "413664           Good                        No                         No   \n",
      "413751           Poor                       Yes                         No   \n",
      "\n",
      "       Family History of Depression Chronic Medical Conditions  \n",
      "8                                No                        Yes  \n",
      "61                               No                         No  \n",
      "122                             Yes                         No  \n",
      "137                              No                        Yes  \n",
      "138                              No                        Yes  \n",
      "...                             ...                        ...  \n",
      "413594                           No                         No  \n",
      "413601                          Yes                         No  \n",
      "413620                           No                        Yes  \n",
      "413664                           No                         No  \n",
      "413751                           No                         No  \n",
      "\n",
      "[12222 rows x 16 columns]\n"
     ]
    }
   ],
   "source": [
    "# Check rows where both 'Income' and 'Employment Status' are missing\n",
    "missing_income_employment = df_fillna[df_fillna['Income'].isnull() & df_fillna['Employment Status'].isnull()]\n",
    "print(missing_income_employment)"
   ]
  },
  {
   "cell_type": "markdown",
   "id": "17a3acf2",
   "metadata": {
    "papermill": {
     "duration": 0.014899,
     "end_time": "2024-11-23T16:09:21.937493",
     "exception": false,
     "start_time": "2024-11-23T16:09:21.922594",
     "status": "completed"
    },
    "tags": []
   },
   "source": [
    "If the Employment Status is missing, it might be better to impute it first before imputing Income."
   ]
  },
  {
   "cell_type": "code",
   "execution_count": 29,
   "id": "2e7f330b",
   "metadata": {
    "execution": {
     "iopub.execute_input": "2024-11-23T16:09:22.003962Z",
     "iopub.status.busy": "2024-11-23T16:09:22.003303Z",
     "iopub.status.idle": "2024-11-23T16:09:22.013172Z",
     "shell.execute_reply": "2024-11-23T16:09:22.012417Z"
    },
    "papermill": {
     "duration": 0.062524,
     "end_time": "2024-11-23T16:09:22.014766",
     "exception": false,
     "start_time": "2024-11-23T16:09:21.952242",
     "status": "completed"
    },
    "tags": []
   },
   "outputs": [
    {
     "data": {
      "text/plain": [
       "0    Employed\n",
       "Name: Employment Status, dtype: category\n",
       "Categories (2, object): ['Employed', 'Unemployed']"
      ]
     },
     "execution_count": 29,
     "metadata": {},
     "output_type": "execute_result"
    }
   ],
   "source": [
    "df_fillna['Employment Status'].mode()"
   ]
  },
  {
   "cell_type": "code",
   "execution_count": 30,
   "id": "8e851364",
   "metadata": {
    "execution": {
     "iopub.execute_input": "2024-11-23T16:09:22.046630Z",
     "iopub.status.busy": "2024-11-23T16:09:22.046343Z",
     "iopub.status.idle": "2024-11-23T16:09:22.053756Z",
     "shell.execute_reply": "2024-11-23T16:09:22.053120Z"
    },
    "papermill": {
     "duration": 0.025066,
     "end_time": "2024-11-23T16:09:22.055393",
     "exception": false,
     "start_time": "2024-11-23T16:09:22.030327",
     "status": "completed"
    },
    "tags": []
   },
   "outputs": [],
   "source": [
    "# Impute 'Employment Status' based on mode (most frequent value)\n",
    "df_fillna['Employment Status'] = df_fillna['Employment Status'].fillna(df_fillna['Employment Status'].mode()[0])"
   ]
  },
  {
   "cell_type": "code",
   "execution_count": 31,
   "id": "50906e34",
   "metadata": {
    "execution": {
     "iopub.execute_input": "2024-11-23T16:09:22.086359Z",
     "iopub.status.busy": "2024-11-23T16:09:22.086114Z",
     "iopub.status.idle": "2024-11-23T16:09:22.103258Z",
     "shell.execute_reply": "2024-11-23T16:09:22.102353Z"
    },
    "papermill": {
     "duration": 0.034503,
     "end_time": "2024-11-23T16:09:22.104997",
     "exception": false,
     "start_time": "2024-11-23T16:09:22.070494",
     "status": "completed"
    },
    "tags": []
   },
   "outputs": [
    {
     "name": "stderr",
     "output_type": "stream",
     "text": [
      "/tmp/ipykernel_23/1194069477.py:2: FutureWarning: The default of observed=False is deprecated and will be changed to True in a future version of pandas. Pass observed=False to retain current behavior or observed=True to adopt the future default and silence this warning.\n",
      "  df_fillna['Income'] = df_fillna.groupby('Employment Status')['Income'].transform('median')\n"
     ]
    }
   ],
   "source": [
    "# Impute 'Income' based on the median income of 'Employment Status' groups\n",
    "df_fillna['Income'] = df_fillna.groupby('Employment Status')['Income'].transform('median')"
   ]
  },
  {
   "cell_type": "code",
   "execution_count": 32,
   "id": "f0e9f0ee",
   "metadata": {
    "execution": {
     "iopub.execute_input": "2024-11-23T16:09:22.136039Z",
     "iopub.status.busy": "2024-11-23T16:09:22.135801Z",
     "iopub.status.idle": "2024-11-23T16:09:22.140466Z",
     "shell.execute_reply": "2024-11-23T16:09:22.139772Z"
    },
    "papermill": {
     "duration": 0.02181,
     "end_time": "2024-11-23T16:09:22.142030",
     "exception": false,
     "start_time": "2024-11-23T16:09:22.120220",
     "status": "completed"
    },
    "tags": []
   },
   "outputs": [
    {
     "name": "stdout",
     "output_type": "stream",
     "text": [
      "0\n"
     ]
    }
   ],
   "source": [
    "# Check if there are still missing values for 'Income'\n",
    "print(df_fillna['Income'].isnull().sum())"
   ]
  },
  {
   "cell_type": "code",
   "execution_count": 33,
   "id": "4b2e707f",
   "metadata": {
    "execution": {
     "iopub.execute_input": "2024-11-23T16:09:22.172597Z",
     "iopub.status.busy": "2024-11-23T16:09:22.172335Z",
     "iopub.status.idle": "2024-11-23T16:09:22.202371Z",
     "shell.execute_reply": "2024-11-23T16:09:22.201617Z"
    },
    "papermill": {
     "duration": 0.047092,
     "end_time": "2024-11-23T16:09:22.204003",
     "exception": false,
     "start_time": "2024-11-23T16:09:22.156911",
     "status": "completed"
    },
    "tags": []
   },
   "outputs": [
    {
     "data": {
      "text/plain": [
       "Name                            12201\n",
       "Age                                 0\n",
       "Marital Status                  12356\n",
       "Education Level                 12293\n",
       "Number of Children                  0\n",
       "Smoking Status                  12274\n",
       "Physical Activity Level         12071\n",
       "Employment Status                   0\n",
       "Income                              0\n",
       "Alcohol Consumption             12482\n",
       "Dietary Habits                  12102\n",
       "Sleep Patterns                  12199\n",
       "History of Mental Illness       12014\n",
       "History of Substance Abuse      12255\n",
       "Family History of Depression    12132\n",
       "Chronic Medical Conditions      12351\n",
       "dtype: int64"
      ]
     },
     "execution_count": 33,
     "metadata": {},
     "output_type": "execute_result"
    }
   ],
   "source": [
    "df_fillna.isnull().sum()"
   ]
  },
  {
   "cell_type": "markdown",
   "id": "7c7d1597",
   "metadata": {
    "papermill": {
     "duration": 0.015272,
     "end_time": "2024-11-23T16:09:22.235338",
     "exception": false,
     "start_time": "2024-11-23T16:09:22.220066",
     "status": "completed"
    },
    "tags": []
   },
   "source": [
    "## Imputation for rest of features"
   ]
  },
  {
   "cell_type": "code",
   "execution_count": 34,
   "id": "27c1124b",
   "metadata": {
    "execution": {
     "iopub.execute_input": "2024-11-23T16:09:22.267825Z",
     "iopub.status.busy": "2024-11-23T16:09:22.267522Z",
     "iopub.status.idle": "2024-11-23T16:09:22.303261Z",
     "shell.execute_reply": "2024-11-23T16:09:22.302095Z"
    },
    "papermill": {
     "duration": 0.054169,
     "end_time": "2024-11-23T16:09:22.305138",
     "exception": false,
     "start_time": "2024-11-23T16:09:22.250969",
     "status": "completed"
    },
    "tags": []
   },
   "outputs": [
    {
     "name": "stdout",
     "output_type": "stream",
     "text": [
      "Distribution for Marital Status:\n",
      "Marital Status\n",
      "Married     233247\n",
      "Single       69946\n",
      "Widowed      66446\n",
      "Divorced     31773\n",
      "Name: count, dtype: int64\n",
      "\n",
      "\n",
      "Distribution for Education Level:\n",
      "Education Level\n",
      "Bachelor's Degree    120693\n",
      "High School          115364\n",
      "Associate Degree      77636\n",
      "Master's Degree       71541\n",
      "PhD                   16241\n",
      "Name: count, dtype: int64\n",
      "\n",
      "\n",
      "Distribution for Smoking Status:\n",
      "Smoking Status\n",
      "Non-smoker    240153\n",
      "Former        112691\n",
      "Current        48650\n",
      "Name: count, dtype: int64\n",
      "\n",
      "\n",
      "Distribution for Physical Activity Level:\n",
      "Physical Activity Level\n",
      "Sedentary    171762\n",
      "Moderate     153311\n",
      "Active        76624\n",
      "Name: count, dtype: int64\n",
      "\n",
      "\n",
      "Distribution for Employment Status:\n",
      "Employment Status\n",
      "Employed      269967\n",
      "Unemployed    143801\n",
      "Name: count, dtype: int64\n",
      "\n",
      "\n",
      "Distribution for Alcohol Consumption:\n",
      "Alcohol Consumption\n",
      "Moderate    168190\n",
      "Low         135007\n",
      "High         98089\n",
      "Name: count, dtype: int64\n",
      "\n",
      "\n",
      "Distribution for Dietary Habits:\n",
      "Dietary Habits\n",
      "Unhealthy    165765\n",
      "Moderate     165550\n",
      "Healthy       70351\n",
      "Name: count, dtype: int64\n",
      "\n",
      "\n",
      "Distribution for Sleep Patterns:\n",
      "Sleep Patterns\n",
      "Fair    191009\n",
      "Poor    125820\n",
      "Good     84740\n",
      "Name: count, dtype: int64\n",
      "\n",
      "\n",
      "Distribution for History of Mental Illness:\n",
      "History of Mental Illness\n",
      "No     279478\n",
      "Yes    122276\n",
      "Name: count, dtype: int64\n",
      "\n",
      "\n",
      "Distribution for History of Substance Abuse:\n",
      "History of Substance Abuse\n",
      "No     276399\n",
      "Yes    125114\n",
      "Name: count, dtype: int64\n",
      "\n",
      "\n",
      "Distribution for Family History of Depression:\n",
      "Family History of Depression\n",
      "No     293716\n",
      "Yes    107920\n",
      "Name: count, dtype: int64\n",
      "\n",
      "\n",
      "Distribution for Chronic Medical Conditions:\n",
      "Chronic Medical Conditions\n",
      "No     269318\n",
      "Yes    132099\n",
      "Name: count, dtype: int64\n",
      "\n",
      "\n"
     ]
    }
   ],
   "source": [
    "# Loop through all columns and display value counts for categorical columns\n",
    "categorical_columns = df_fillna.select_dtypes(include=['category']).columns\n",
    "\n",
    "for column in categorical_columns:\n",
    "    print(f\"Distribution for {column}:\")\n",
    "    print(df_fillna[column].value_counts())\n",
    "    print(\"\\n\")"
   ]
  },
  {
   "cell_type": "code",
   "execution_count": 35,
   "id": "c77d8bfd",
   "metadata": {
    "execution": {
     "iopub.execute_input": "2024-11-23T16:09:22.337622Z",
     "iopub.status.busy": "2024-11-23T16:09:22.337329Z",
     "iopub.status.idle": "2024-11-23T16:09:24.228972Z",
     "shell.execute_reply": "2024-11-23T16:09:24.228186Z"
    },
    "papermill": {
     "duration": 1.912773,
     "end_time": "2024-11-23T16:09:24.233977",
     "exception": false,
     "start_time": "2024-11-23T16:09:22.321204",
     "status": "completed"
    },
    "tags": []
   },
   "outputs": [
    {
     "name": "stderr",
     "output_type": "stream",
     "text": [
      "/opt/conda/lib/python3.10/site-packages/seaborn/categorical.py:641: FutureWarning: The default of observed=False is deprecated and will be changed to True in a future version of pandas. Pass observed=False to retain current behavior or observed=True to adopt the future default and silence this warning.\n",
      "  grouped_vals = vals.groupby(grouper)\n"
     ]
    },
    {
     "data": {
      "image/png": "[encoded data removed]",
      "text/plain": [
       "<Figure size 1500x1600 with 12 Axes>"
      ]
     },
     "metadata": {},
     "output_type": "display_data"
    }
   ],
   "source": [
    "import math\n",
    "\n",
    "# Set up the plot size\n",
    "num_columns = len(categorical_columns)\n",
    "num_rows = math.ceil(num_columns / 3)  # Adjust number of rows to fit all plots\n",
    "\n",
    "plt.figure(figsize=(15, num_rows * 4))\n",
    "\n",
    "# Loop through all categorical columns and plot the distributions\n",
    "for i, column in enumerate(categorical_columns, 1):\n",
    "    plt.subplot(num_rows, 3, i)  # Adjust the subplot grid dynamically\n",
    "    sns.countplot(data=df_fillna, x=column, palette='Set2')\n",
    "    plt.title(f'Distribution of {column}')\n",
    "    plt.xticks(rotation=45, ha='right')\n",
    "\n",
    "plt.tight_layout()\n",
    "plt.show()"
   ]
  },
  {
   "cell_type": "markdown",
   "id": "3f08fe5d",
   "metadata": {
    "papermill": {
     "duration": 0.018756,
     "end_time": "2024-11-23T16:09:24.273376",
     "exception": false,
     "start_time": "2024-11-23T16:09:24.254620",
     "status": "completed"
    },
    "tags": []
   },
   "source": [
    "We use mode imputation for imbalanced features and random sampling for balanced features.\n",
    "\n",
    "**Imputation Logic**\n",
    "1. Mode Imputation\n",
    "   - For features with a dominant category\n",
    "2. Random Sampling Imputation\n",
    "   - For features with more balanced distributions"
   ]
  },
  {
   "cell_type": "code",
   "execution_count": 36,
   "id": "d0c8ecf6",
   "metadata": {
    "execution": {
     "iopub.execute_input": "2024-11-23T16:09:24.314531Z",
     "iopub.status.busy": "2024-11-23T16:09:24.314211Z",
     "iopub.status.idle": "2024-11-23T16:09:24.404810Z",
     "shell.execute_reply": "2024-11-23T16:09:24.403847Z"
    },
    "papermill": {
     "duration": 0.113327,
     "end_time": "2024-11-23T16:09:24.407146",
     "exception": false,
     "start_time": "2024-11-23T16:09:24.293819",
     "status": "completed"
    },
    "tags": []
   },
   "outputs": [
    {
     "name": "stdout",
     "output_type": "stream",
     "text": [
      "Name                            12201\n",
      "Age                                 0\n",
      "Marital Status                      0\n",
      "Education Level                     0\n",
      "Number of Children                  0\n",
      "Smoking Status                      0\n",
      "Physical Activity Level             0\n",
      "Employment Status                   0\n",
      "Income                              0\n",
      "Alcohol Consumption                 0\n",
      "Dietary Habits                      0\n",
      "Sleep Patterns                      0\n",
      "History of Mental Illness           0\n",
      "History of Substance Abuse          0\n",
      "Family History of Depression        0\n",
      "Chronic Medical Conditions          0\n",
      "dtype: int64\n"
     ]
    },
    {
     "name": "stderr",
     "output_type": "stream",
     "text": [
      "/tmp/ipykernel_23/2817901283.py:16: FutureWarning: A value is trying to be set on a copy of a DataFrame or Series through chained assignment using an inplace method.\n",
      "The behavior will change in pandas 3.0. This inplace method will never work because the intermediate object on which we are setting values always behaves as a copy.\n",
      "\n",
      "For example, when doing 'df[col].method(value, inplace=True)', try using 'df.method({col: value}, inplace=True)' or df[col] = df[col].method(value) instead, to perform the operation inplace on the original object.\n",
      "\n",
      "\n",
      "  df_fillna[column].fillna(mode_value, inplace=True)\n"
     ]
    }
   ],
   "source": [
    "# List of features for mode and random sampling imputations\n",
    "mode_imputation_features = [\n",
    "    \"Marital Status\", \"Smoking Status\", \n",
    "    \"History of Substance Abuse\", \"Family History of Depression\", \n",
    "    \"Chronic Medical Conditions\", \"History of Mental Illness\"\n",
    "]\n",
    "\n",
    "random_sampling_features = [\n",
    "    \"Physical Activity Level\", \"Education Level\", \"Alcohol Consumption\", \n",
    "    \"Dietary Habits\", \"Sleep Patterns\"\n",
    "]\n",
    "\n",
    "# Mode imputation\n",
    "for column in mode_imputation_features:\n",
    "    mode_value = df_fillna[column].mode()[0]  # Get the most frequent value\n",
    "    df_fillna[column].fillna(mode_value, inplace=True)\n",
    "\n",
    "# Random sampling imputation\n",
    "for column in random_sampling_features:\n",
    "    missing_indices = df_fillna[column].isnull()  # Identify missing rows\n",
    "    observed_values = df_fillna.loc[~missing_indices, column]  # Non-missing values\n",
    "    sampled_values = np.random.choice(observed_values, size=missing_indices.sum(), replace=True)\n",
    "    df_fillna.loc[missing_indices, column] = sampled_values\n",
    "\n",
    "# Verify if all missing values are filled\n",
    "print(df_fillna.isnull().sum())"
   ]
  },
  {
   "cell_type": "markdown",
   "id": "2ba6bb69",
   "metadata": {
    "papermill": {
     "duration": 0.019111,
     "end_time": "2024-11-23T16:09:24.446032",
     "exception": false,
     "start_time": "2024-11-23T16:09:24.426921",
     "status": "completed"
    },
    "tags": []
   },
   "source": [
    "### 3. 2. Outlier Value Analysis"
   ]
  },
  {
   "cell_type": "markdown",
   "id": "b100b211",
   "metadata": {
    "papermill": {
     "duration": 0.018823,
     "end_time": "2024-11-23T16:09:24.485695",
     "exception": false,
     "start_time": "2024-11-23T16:09:24.466872",
     "status": "completed"
    },
    "tags": []
   },
   "source": [
    "Depression data includes 3 numerical features. Let's consider them."
   ]
  },
  {
   "cell_type": "code",
   "execution_count": 37,
   "id": "0cb31ee6",
   "metadata": {
    "execution": {
     "iopub.execute_input": "2024-11-23T16:09:24.526046Z",
     "iopub.status.busy": "2024-11-23T16:09:24.525743Z",
     "iopub.status.idle": "2024-11-23T16:09:25.149199Z",
     "shell.execute_reply": "2024-11-23T16:09:25.148301Z"
    },
    "papermill": {
     "duration": 0.64531,
     "end_time": "2024-11-23T16:09:25.150939",
     "exception": false,
     "start_time": "2024-11-23T16:09:24.505629",
     "status": "completed"
    },
    "tags": []
   },
   "outputs": [
    {
     "data": {
      "image/png": "[encoded data removed]",
      "text/plain": [
       "<Figure size 1200x800 with 3 Axes>"
      ]
     },
     "metadata": {},
     "output_type": "display_data"
    }
   ],
   "source": [
    "# List of numerical columns to check for outliers\n",
    "numerical_columns = ['Income', 'Age', 'Number of Children']\n",
    "\n",
    "# Create a larger grid of boxplots for better comparison\n",
    "plt.figure(figsize=(12, 8))\n",
    "\n",
    "# Loop through numerical columns and plot horizontally\n",
    "for i, col in enumerate(numerical_columns, 1):\n",
    "    plt.subplot(1, 3, i)  # Adjust grid to have 1 row and 3 columns\n",
    "    sns.boxplot(data=df_fillna, x=col, palette='Set2')\n",
    "    plt.title(f'Boxplot for {col}')\n",
    "    plt.tight_layout()\n",
    "\n",
    "plt.show()"
   ]
  },
  {
   "cell_type": "code",
   "execution_count": 38,
   "id": "09d03408",
   "metadata": {
    "execution": {
     "iopub.execute_input": "2024-11-23T16:09:25.192478Z",
     "iopub.status.busy": "2024-11-23T16:09:25.192172Z",
     "iopub.status.idle": "2024-11-23T16:09:25.237660Z",
     "shell.execute_reply": "2024-11-23T16:09:25.236599Z"
    },
    "papermill": {
     "duration": 0.067897,
     "end_time": "2024-11-23T16:09:25.239252",
     "exception": false,
     "start_time": "2024-11-23T16:09:25.171355",
     "status": "completed"
    },
    "tags": []
   },
   "outputs": [
    {
     "name": "stdout",
     "output_type": "stream",
     "text": [
      "Outliers in Income:\n",
      "Series([], Name: Income, dtype: float64)\n",
      "Total number of outliers in Income: 0\n",
      "Outliers in Age:\n",
      "Series([], Name: Age, dtype: float64)\n",
      "Total number of outliers in Age: 0\n",
      "Outliers in Number of Children:\n",
      "Series([], Name: Number of Children, dtype: float64)\n",
      "Total number of outliers in Number of Children: 0\n"
     ]
    }
   ],
   "source": [
    "# Outlier detection using IQR for numerical columns\n",
    "numerical_columns = ['Income', 'Age', 'Number of Children']\n",
    "\n",
    "# Calculate IQR and define outliers for each column\n",
    "outliers = {}\n",
    "\n",
    "for col in numerical_columns:\n",
    "    Q1 = df_fillna[col].quantile(0.25)\n",
    "    Q3 = df_fillna[col].quantile(0.75)\n",
    "    IQR = Q3 - Q1\n",
    "    \n",
    "    # Calculate the bounds\n",
    "    lower_bound = Q1 - 1.5 * IQR\n",
    "    upper_bound = Q3 + 1.5 * IQR\n",
    "    \n",
    "    # Identify outliers\n",
    "    outliers[col] = df_fillna[(df_fillna[col] < lower_bound) | (df_fillna[col] > upper_bound)]\n",
    "    \n",
    "    print(f\"Outliers in {col}:\")\n",
    "    print(outliers[col][col])\n",
    "    print(f\"Total number of outliers in {col}: {outliers[col].shape[0]}\")"
   ]
  },
  {
   "cell_type": "markdown",
   "id": "c06348b1",
   "metadata": {
    "papermill": {
     "duration": 0.026549,
     "end_time": "2024-11-23T16:09:25.285922",
     "exception": false,
     "start_time": "2024-11-23T16:09:25.259373",
     "status": "completed"
    },
    "tags": []
   },
   "source": [
    "The change in the maximum value for Income can be attributed to imputing missing values, which replaces NaN entries with reasonable values like the median. As a result, extreme outliers were effectively removed, leading to a decrease in the overall maximum."
   ]
  },
  {
   "cell_type": "markdown",
   "id": "9e704e04",
   "metadata": {
    "papermill": {
     "duration": 0.043087,
     "end_time": "2024-11-23T16:09:25.367336",
     "exception": false,
     "start_time": "2024-11-23T16:09:25.324249",
     "status": "completed"
    },
    "tags": []
   },
   "source": [
    "## 4. Feature Engineering and Analysis"
   ]
  },
  {
   "cell_type": "code",
   "execution_count": 39,
   "id": "8c341bbc",
   "metadata": {
    "execution": {
     "iopub.execute_input": "2024-11-23T16:09:25.419701Z",
     "iopub.status.busy": "2024-11-23T16:09:25.419357Z",
     "iopub.status.idle": "2024-11-23T16:09:25.436754Z",
     "shell.execute_reply": "2024-11-23T16:09:25.436050Z"
    },
    "papermill": {
     "duration": 0.040835,
     "end_time": "2024-11-23T16:09:25.438624",
     "exception": false,
     "start_time": "2024-11-23T16:09:25.397789",
     "status": "completed"
    },
    "tags": []
   },
   "outputs": [],
   "source": [
    "df_fe = df_fillna.copy()"
   ]
  },
  {
   "cell_type": "markdown",
   "id": "502c4b57",
   "metadata": {
    "papermill": {
     "duration": 0.025091,
     "end_time": "2024-11-23T16:09:25.483824",
     "exception": false,
     "start_time": "2024-11-23T16:09:25.458733",
     "status": "completed"
    },
    "tags": []
   },
   "source": [
    "1. We can create Depression Risk and Healthy Lifestyle Score columns."
   ]
  },
  {
   "cell_type": "markdown",
   "id": "6ef3f8b3",
   "metadata": {
    "papermill": {
     "duration": 0.020236,
     "end_time": "2024-11-23T16:09:25.524903",
     "exception": false,
     "start_time": "2024-11-23T16:09:25.504667",
     "status": "completed"
    },
    "tags": []
   },
   "source": [
    "**Healthy Lifestyle Score**: This column can be based on lifestyle habits such as Physical Activity Level, Dietary Habits, Smoking Status, and Alcohol Consumption. A scoring system can be created where:\n",
    "\n",
    "- Higher physical activity levels and better dietary habits increase the score.\n",
    "- Smoking and alcohol consumption would decrease the score."
   ]
  },
  {
   "cell_type": "code",
   "execution_count": 40,
   "id": "3bb15264",
   "metadata": {
    "execution": {
     "iopub.execute_input": "2024-11-23T16:09:25.569685Z",
     "iopub.status.busy": "2024-11-23T16:09:25.569026Z",
     "iopub.status.idle": "2024-11-23T16:09:31.141139Z",
     "shell.execute_reply": "2024-11-23T16:09:31.140198Z"
    },
    "papermill": {
     "duration": 5.596615,
     "end_time": "2024-11-23T16:09:31.143229",
     "exception": false,
     "start_time": "2024-11-23T16:09:25.546614",
     "status": "completed"
    },
    "tags": []
   },
   "outputs": [],
   "source": [
    "def healthy_lifestyle_score(row):\n",
    "    score = 0\n",
    "    if row[\"Physical Activity Level\"] == \"Active\": score += 2\n",
    "    if row[\"Dietary Habits\"] == \"Healthy\": score += 2\n",
    "    if row[\"Smoking Status\"] == \"Non-smoker\": score += 2\n",
    "    if row[\"Alcohol Consumption\"] == \"Low\": score += 2\n",
    "    if row['Sleep Patterns'] == 'Good': score += 2\n",
    "    return score\n",
    "\n",
    "df_fe[\"Healthy Lifestyle Score\"] = df_fe.apply(healthy_lifestyle_score, axis=1)"
   ]
  },
  {
   "cell_type": "code",
   "execution_count": 41,
   "id": "a4cbf97c",
   "metadata": {
    "execution": {
     "iopub.execute_input": "2024-11-23T16:09:31.186182Z",
     "iopub.status.busy": "2024-11-23T16:09:31.185902Z",
     "iopub.status.idle": "2024-11-23T16:09:31.193682Z",
     "shell.execute_reply": "2024-11-23T16:09:31.192952Z"
    },
    "papermill": {
     "duration": 0.030222,
     "end_time": "2024-11-23T16:09:31.195201",
     "exception": false,
     "start_time": "2024-11-23T16:09:31.164979",
     "status": "completed"
    },
    "tags": []
   },
   "outputs": [
    {
     "data": {
      "text/plain": [
       "array([ 4,  2,  6,  8,  0, 10])"
      ]
     },
     "execution_count": 41,
     "metadata": {},
     "output_type": "execute_result"
    }
   ],
   "source": [
    "df_fe[\"Healthy Lifestyle Score\"].unique()"
   ]
  },
  {
   "cell_type": "markdown",
   "id": "cc718023",
   "metadata": {
    "papermill": {
     "duration": 0.022094,
     "end_time": "2024-11-23T16:09:31.236966",
     "exception": false,
     "start_time": "2024-11-23T16:09:31.214872",
     "status": "completed"
    },
    "tags": []
   },
   "source": [
    "**Depression Risk**: This column can represent the likelihood of depression based on factors like History of Mental Illness and Family History of Depression. \n",
    "We can also consider the Healty Lifestyle Score because lifestyle factors often influence mental health.\n",
    "- High Depression Risk:\n",
    "  * History of Mental Illness = Yes\n",
    "  * Family History of Depression = Yes\n",
    "  * If an individual has a low Healthy Lifestyle Score (i.e., poor physical activity, smoking, high alcohol consumption), they may be at a higher risk for depression."
   ]
  },
  {
   "cell_type": "code",
   "execution_count": 42,
   "id": "c71ff536",
   "metadata": {
    "execution": {
     "iopub.execute_input": "2024-11-23T16:09:31.279409Z",
     "iopub.status.busy": "2024-11-23T16:09:31.278789Z",
     "iopub.status.idle": "2024-11-23T16:09:35.000004Z",
     "shell.execute_reply": "2024-11-23T16:09:34.999074Z"
    },
    "papermill": {
     "duration": 3.744906,
     "end_time": "2024-11-23T16:09:35.002101",
     "exception": false,
     "start_time": "2024-11-23T16:09:31.257195",
     "status": "completed"
    },
    "tags": []
   },
   "outputs": [],
   "source": [
    "# Create Depression Risk based on History of Mental Illness, Family History of Depression, and Healthy Lifestyle Score\n",
    "def depression_risk(row):\n",
    "    # Start with a risk factor based on history of mental illness or family history of depression\n",
    "    risk = 0\n",
    "    if (row['History of Mental Illness'] == 'Yes') or (row['Family History of Depression'] == 'Yes'):\n",
    "        risk = 1\n",
    "    \n",
    "    # Now incorporate the Healthy Lifestyle Score: if score is low, increase depression risk\n",
    "    if row['Healthy Lifestyle Score'] <= 4:  # Let's assume 4 or below is considered unhealthy\n",
    "        risk = 1  # Higher risk\n",
    "    \n",
    "    return risk\n",
    "\n",
    "# Apply the function to create the Depression Risk column\n",
    "df_fe['Depression Risk'] = df_fe.apply(depression_risk, axis=1)"
   ]
  },
  {
   "cell_type": "code",
   "execution_count": 43,
   "id": "f584226e",
   "metadata": {
    "execution": {
     "iopub.execute_input": "2024-11-23T16:09:35.045131Z",
     "iopub.status.busy": "2024-11-23T16:09:35.044539Z",
     "iopub.status.idle": "2024-11-23T16:09:35.052469Z",
     "shell.execute_reply": "2024-11-23T16:09:35.051619Z"
    },
    "papermill": {
     "duration": 0.030993,
     "end_time": "2024-11-23T16:09:35.054065",
     "exception": false,
     "start_time": "2024-11-23T16:09:35.023072",
     "status": "completed"
    },
    "tags": []
   },
   "outputs": [
    {
     "data": {
      "text/plain": [
       "array([1, 0])"
      ]
     },
     "execution_count": 43,
     "metadata": {},
     "output_type": "execute_result"
    }
   ],
   "source": [
    "df_fe[\"Depression Risk\"].unique()"
   ]
  },
  {
   "cell_type": "markdown",
   "id": "d7339a91",
   "metadata": {
    "papermill": {
     "duration": 0.019538,
     "end_time": "2024-11-23T16:09:35.093327",
     "exception": false,
     "start_time": "2024-11-23T16:09:35.073789",
     "status": "completed"
    },
    "tags": []
   },
   "source": [
    "2. Let's test if smoking status is associated with family history of depression. We use chi-square test. <br>\n",
    "**Chi-Square Test**: To check if there is a significant association between Smoking Status and Family History of Depression."
   ]
  },
  {
   "cell_type": "code",
   "execution_count": 44,
   "id": "6e968c7b",
   "metadata": {
    "execution": {
     "iopub.execute_input": "2024-11-23T16:09:35.139432Z",
     "iopub.status.busy": "2024-11-23T16:09:35.139062Z",
     "iopub.status.idle": "2024-11-23T16:09:35.181768Z",
     "shell.execute_reply": "2024-11-23T16:09:35.180756Z"
    },
    "papermill": {
     "duration": 0.069049,
     "end_time": "2024-11-23T16:09:35.183526",
     "exception": false,
     "start_time": "2024-11-23T16:09:35.114477",
     "status": "completed"
    },
    "tags": []
   },
   "outputs": [
    {
     "name": "stdout",
     "output_type": "stream",
     "text": [
      "Chi-Square Test p-value: 2.976627317364588e-126\n"
     ]
    }
   ],
   "source": [
    "from scipy.stats import chi2_contingency\n",
    "contingency_table = pd.crosstab(df_fillna['Smoking Status'], df_fillna['Family History of Depression'])\n",
    "chi2, p_value, _, _ = chi2_contingency(contingency_table)\n",
    "print(f'Chi-Square Test p-value: {p_value}')"
   ]
  },
  {
   "cell_type": "markdown",
   "id": "54b7f89d",
   "metadata": {
    "papermill": {
     "duration": 0.020237,
     "end_time": "2024-11-23T16:09:35.224344",
     "exception": false,
     "start_time": "2024-11-23T16:09:35.204107",
     "status": "completed"
    },
    "tags": []
   },
   "source": [
    "The p-value is extremely small, which indicates a very strong statistical significance in the relationship between Smoking Status and Family History of Depression. This suggests that people who have a family history of depression may be more likely to have a certain smoking status, or vice versa."
   ]
  },
  {
   "cell_type": "markdown",
   "id": "de3dbd48",
   "metadata": {
    "papermill": {
     "duration": 0.01975,
     "end_time": "2024-11-23T16:09:35.265516",
     "exception": false,
     "start_time": "2024-11-23T16:09:35.245766",
     "status": "completed"
    },
    "tags": []
   },
   "source": [
    "Let's visualize the relationship using a stacked bar chart to show how the different smoking statuses are distributed across the categories of family history of depression."
   ]
  },
  {
   "cell_type": "code",
   "execution_count": 45,
   "id": "7b2e1d6e",
   "metadata": {
    "execution": {
     "iopub.execute_input": "2024-11-23T16:09:35.323275Z",
     "iopub.status.busy": "2024-11-23T16:09:35.322968Z",
     "iopub.status.idle": "2024-11-23T16:09:35.719806Z",
     "shell.execute_reply": "2024-11-23T16:09:35.718951Z"
    },
    "papermill": {
     "duration": 0.430926,
     "end_time": "2024-11-23T16:09:35.721518",
     "exception": false,
     "start_time": "2024-11-23T16:09:35.290592",
     "status": "completed"
    },
    "tags": []
   },
   "outputs": [
    {
     "data": {
      "image/png": "[encoded data removed]",
      "text/plain": [
       "<Figure size 800x600 with 1 Axes>"
      ]
     },
     "metadata": {},
     "output_type": "display_data"
    }
   ],
   "source": [
    "# Create a contingency table\n",
    "contingency_table = pd.crosstab(df_fe['Smoking Status'], df_fe['Family History of Depression'])\n",
    "\n",
    "# Plot the stacked bar chart\n",
    "ax = contingency_table.plot(kind='bar', stacked=True, figsize=(8, 6), colormap='Set2')\n",
    "ax.set_title('Smoking Status vs. Family History of Depression')\n",
    "ax.set_xlabel('Smoking Status')\n",
    "ax.set_ylabel('Count')\n",
    "ax.legend(title='Family History of Depression', labels=['No', 'Yes'])\n",
    "plt.xticks(rotation=0)\n",
    "plt.tight_layout()\n",
    "plt.show()"
   ]
  },
  {
   "cell_type": "markdown",
   "id": "29937708",
   "metadata": {
    "papermill": {
     "duration": 0.020254,
     "end_time": "2024-11-23T16:09:35.764171",
     "exception": false,
     "start_time": "2024-11-23T16:09:35.743917",
     "status": "completed"
    },
    "tags": []
   },
   "source": [
    "3. Let's create a new column as \"Family\" combining Marital Status and Number of Children."
   ]
  },
  {
   "cell_type": "code",
   "execution_count": 46,
   "id": "c794386c",
   "metadata": {
    "execution": {
     "iopub.execute_input": "2024-11-23T16:09:35.805971Z",
     "iopub.status.busy": "2024-11-23T16:09:35.805375Z",
     "iopub.status.idle": "2024-11-23T16:09:39.054300Z",
     "shell.execute_reply": "2024-11-23T16:09:39.053629Z"
    },
    "papermill": {
     "duration": 3.272062,
     "end_time": "2024-11-23T16:09:39.056313",
     "exception": false,
     "start_time": "2024-11-23T16:09:35.784251",
     "status": "completed"
    },
    "tags": []
   },
   "outputs": [],
   "source": [
    "def family_status(row):\n",
    "    if row['Marital Status'] == 'Married' and row['Number of Children'] > 0:\n",
    "        return 'Married with children'\n",
    "    elif row['Marital Status'] == 'Married' and row['Number of Children'] == 0:\n",
    "        return 'Married without children'\n",
    "    else:\n",
    "        return 'Single'\n",
    "\n",
    "df_fe['Family Status'] = df_fe.apply(family_status, axis=1)"
   ]
  },
  {
   "cell_type": "code",
   "execution_count": 47,
   "id": "bd78d66c",
   "metadata": {
    "execution": {
     "iopub.execute_input": "2024-11-23T16:09:39.099399Z",
     "iopub.status.busy": "2024-11-23T16:09:39.098860Z",
     "iopub.status.idle": "2024-11-23T16:09:39.127457Z",
     "shell.execute_reply": "2024-11-23T16:09:39.126798Z"
    },
    "papermill": {
     "duration": 0.051335,
     "end_time": "2024-11-23T16:09:39.128994",
     "exception": false,
     "start_time": "2024-11-23T16:09:39.077659",
     "status": "completed"
    },
    "tags": []
   },
   "outputs": [
    {
     "data": {
      "text/plain": [
       "array(['Married with children', 'Single', 'Married without children'],\n",
       "      dtype=object)"
      ]
     },
     "execution_count": 47,
     "metadata": {},
     "output_type": "execute_result"
    }
   ],
   "source": [
    "df_fe[\"Family Status\"].unique()"
   ]
  },
  {
   "cell_type": "markdown",
   "id": "9e252139",
   "metadata": {
    "papermill": {
     "duration": 0.021566,
     "end_time": "2024-11-23T16:09:39.172783",
     "exception": false,
     "start_time": "2024-11-23T16:09:39.151217",
     "status": "completed"
    },
    "tags": []
   },
   "source": [
    "Let's see the relationship between Family Status and Depression Risk."
   ]
  },
  {
   "cell_type": "code",
   "execution_count": 48,
   "id": "363acacd",
   "metadata": {
    "execution": {
     "iopub.execute_input": "2024-11-23T16:09:39.217260Z",
     "iopub.status.busy": "2024-11-23T16:09:39.216769Z",
     "iopub.status.idle": "2024-11-23T16:09:39.790602Z",
     "shell.execute_reply": "2024-11-23T16:09:39.789747Z"
    },
    "papermill": {
     "duration": 0.598558,
     "end_time": "2024-11-23T16:09:39.792778",
     "exception": false,
     "start_time": "2024-11-23T16:09:39.194220",
     "status": "completed"
    },
    "tags": []
   },
   "outputs": [
    {
     "data": {
      "image/png": "[encoded data removed]",
      "text/plain": [
       "<Figure size 640x480 with 1 Axes>"
      ]
     },
     "metadata": {},
     "output_type": "display_data"
    }
   ],
   "source": [
    "sns.countplot(data=df_fe, x='Family Status', hue='Depression Risk', palette='Set2')\n",
    "plt.title('Family Status vs. Depression Risk')\n",
    "plt.xlabel('Family Status')\n",
    "plt.ylabel('Count')\n",
    "plt.xticks(rotation=45)\n",
    "plt.tight_layout()\n",
    "plt.show()"
   ]
  },
  {
   "cell_type": "markdown",
   "id": "d85cf246",
   "metadata": {
    "papermill": {
     "duration": 0.022581,
     "end_time": "2024-11-23T16:09:39.839517",
     "exception": false,
     "start_time": "2024-11-23T16:09:39.816936",
     "status": "completed"
    },
    "tags": []
   },
   "source": [
    "The analysis of the relationship between family status and depression risk revealed the following key observations:\n",
    "\n",
    "* **Married with children** individuals have the highest **depression risk** compared to other family statuses. This suggests that being married with children might correlate with higher levels of stress or responsibilities, which could contribute to an increased risk of depression.\n",
    "* **Single** individuals are the second highest in terms of **depression risk**. This could reflect social isolation or challenges related to being single, which may contribute to mental health struggles.\n",
    "* **Married without children** individuals have the lowest **depression risk**, which may indicate that the absence of children, along with the support system of a marital relationship, may provide a more stable and less stressful environment.\n",
    "\n",
    "These findings provide insight into how different family structures might be linked to varying levels of depression risk. Further analysis, including additional factors such as income, health conditions, and mental health history, would be beneficial to understand the underlying causes of these trends."
   ]
  },
  {
   "cell_type": "markdown",
   "id": "a9752c7c",
   "metadata": {
    "papermill": {
     "duration": 0.020729,
     "end_time": "2024-11-23T16:09:39.881992",
     "exception": false,
     "start_time": "2024-11-23T16:09:39.861263",
     "status": "completed"
    },
    "tags": []
   },
   "source": [
    "## 5. Results and Recommendations"
   ]
  },
  {
   "cell_type": "markdown",
   "id": "8333be5f",
   "metadata": {
    "papermill": {
     "duration": 0.020555,
     "end_time": "2024-11-23T16:09:39.923295",
     "exception": false,
     "start_time": "2024-11-23T16:09:39.902740",
     "status": "completed"
    },
    "tags": []
   },
   "source": [
    "In this project, the analysis we conducted highlighted the relationship between depression risk and healthy lifestyle factors, providing significant insights for data-driven solutions in the healthcare sector. Specifically, the relationship between depression risk and demographic factors, such as family status, presents important findings for targeted group interventions and service design.\n",
    "\n",
    "#### **1. Potential Application Areas of the Data:**\n",
    "\n",
    "- **Healthcare and Psychological Support Services:**\n",
    "  Based on depression risk and factors like family status and lifestyle, individuals can be better targeted for interventions. For instance, the observation that individuals in the **\"married with children\"** category exhibit higher depression risk suggests that family counseling services might be more effective for this group. Additionally, these findings could inform the design of personalized mental health programs based on individuals' lifestyle and health habits.\n",
    "\n",
    "- **Strategic Decision Support in Companies:**\n",
    "  Depression risk data could be useful for companies aiming to make strategic decisions regarding employee health. The relationship between **family status** and **lifestyle** factors and depression risk could assist in targeting workplace health initiatives. For example, programs that promote a healthy lifestyle or provide family support could be implemented for employees.\n",
    "\n",
    "#### **2. Suggested ML Models:**\n",
    "\n",
    "For analyzing depression risk and healthy lifestyle data, we recommend using **classification algorithms** and **decision trees** in machine learning. Specifically, **Random Forest** or **Gradient Boosting** methods could be effective at modeling the complexity and heterogeneity of the data. These algorithms can be particularly useful in predicting depression risk based on various features.\n",
    "\n",
    "**Why These Models?**\n",
    "\n",
    "- **Random Forest and Gradient Boosting:**\n",
    "  These ensemble methods provide high accuracy and generalization, especially when working with complex and interacting data. These models would effectively capture the relationships between features like family status, lifestyle habits, and depression risk.\n",
    "\n",
    "- **Logistic Regression:**\n",
    "  Another option for classification is **logistic regression**, which could work well if the depression risk is represented as a binary classification (e.g., \"Risky\" vs. \"Not Risky\"). While logistic regression offers faster results and is more interpretable, it may have limitations in modeling complex interactions.\n",
    "\n",
    "#### **Conclusion:**\n",
    "\n",
    "This project has provided valuable insights into the relationship between depression risk and healthy lifestyle factors. The findings suggest that demographic factors, such as **family status** and **lifestyle habits**, play a significant role in depression risk, and this information can be used to inform health policies and interventions. \n",
    "\n",
    "**Recommendations:**\n",
    "1. Collect and analyze more data related to depression risk to improve prediction accuracy.\n",
    "2. Explore advanced machine learning techniques (e.g., deep learning) to uncover more complex interactions and factors.\n",
    "3. Design health programs or counseling services for high-risk groups based on the findings to offer tailored psychological support.\n",
    "\n",
    "These recommendations guide how the findings from this analysis can be applied both clinically and within corporate wellness programs."
   ]
  }
 ],
 "metadata": {
  "kaggle": {
   "accelerator": "nvidiaTeslaT4",
   "dataSources": [
    {
     "datasetId": 5417212,
     "sourceId": 8993708,
     "sourceType": "datasetVersion"
    }
   ],
   "dockerImageVersionId": 30787,
   "isGpuEnabled": true,
   "isInternetEnabled": true,
   "language": "python",
   "sourceType": "notebook"
  },
  "kernelspec": {
   "display_name": "Python 3",
   "language": "python",
   "name": "python3"
  },
  "language_info": {
   "codemirror_mode": {
    "name": "ipython",
    "version": 3
   },
   "file_extension": ".py",
   "mimetype": "text/x-python",
   "name": "python",
   "nbconvert_exporter": "python",
   "pygments_lexer": "ipython3",
   "version": "3.10.14"
  },
  "papermill": {
   "default_parameters": {},
   "duration": 44.227493,
   "end_time": "2024-11-23T16:09:41.565409",
   "environment_variables": {},
   "exception": null,
   "input_path": "__notebook__.ipynb",
   "output_path": "__notebook__.ipynb",
   "parameters": {},
   "start_time": "2024-11-23T16:08:57.337916",
   "version": "2.6.0"
  }
 },
 "nbformat": 4,
 "nbformat_minor": 5
}
